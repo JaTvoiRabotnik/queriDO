{
 "cells": [
  {
   "cell_type": "markdown",
   "metadata": {},
   "source": [
    "** Structuring notebook **"
   ]
  },
  {
   "cell_type": "markdown",
   "metadata": {},
   "source": [
    "In this notebook we will perform a few experiments with parsing a HTML document as given by a DO, and try to extract structures from it in such a way as to keep as much of its original intention as possible."
   ]
  },
  {
   "cell_type": "markdown",
   "metadata": {},
   "source": [
    "Once we can easily extract the structure, we will try to generate a series of nested documents derived from the original HTML, which we then intend on running through a clustering algorithm to get some classification going."
   ]
  },
  {
   "cell_type": "code",
   "execution_count": 126,
   "metadata": {
    "collapsed": false
   },
   "outputs": [],
   "source": [
    "# We will parse HTML with BeautifulSoup\n",
    "from bs4 import BeautifulSoup"
   ]
  },
  {
   "cell_type": "markdown",
   "metadata": {},
   "source": [
    "During clustering we will ignore spaces. We will assume that all formatting information is contained in the tags themselves, either directly (in-line) or via the application of styles associated with classes."
   ]
  },
  {
   "cell_type": "code",
   "execution_count": 127,
   "metadata": {
    "collapsed": false
   },
   "outputs": [],
   "source": [
    "# Get one of the extracted HTMLs, and trim the extra spaces and line breakes.\n",
    "htmlfile = open(\"../newhtml/12906.html\", encoding='utf8')\n",
    "htmltext = ' '.join(htmlfile.read().replace('\\n', '').replace('\\r', '').split())\n",
    "soup = BeautifulSoup(htmltext, 'html5lib')"
   ]
  },
  {
   "cell_type": "code",
   "execution_count": 130,
   "metadata": {
    "collapsed": false
   },
   "outputs": [],
   "source": [
    "# This gets all tags used in the documents, in a recursive manner.\n",
    "list_of_tags = soup.find_all(True)"
   ]
  },
  {
   "cell_type": "code",
   "execution_count": 131,
   "metadata": {
    "collapsed": false
   },
   "outputs": [
    {
     "data": {
      "text/plain": [
       "86"
      ]
     },
     "execution_count": 131,
     "metadata": {},
     "output_type": "execute_result"
    }
   ],
   "source": [
    "len(list_of_tags)"
   ]
  },
  {
   "cell_type": "markdown",
   "metadata": {},
   "source": [
    "There's a lot of redundancy here, but that's OK. The objective is to get different classes of formats, which the algorithm will find by itself. This will then allow us to trim what is important and what is not."
   ]
  },
  {
   "cell_type": "code",
   "execution_count": 141,
   "metadata": {
    "collapsed": false
   },
   "outputs": [
    {
     "name": "stdout",
     "output_type": "stream",
     "text": [
      "0 \n",
      " <html><head> <style> .topo_materia{ font-family: Verdana; font-size: 8pt; color: #000000; } .d_rtf{ font-family: Verdana; font-size: 12px; font-size-adjust: 0.4; color: #000000; font-weight: bold; vertical-align:30%; } a{ color:#000000; text-decoration: none; } a:hover{ color:#666666; font-weight: normal; text-decoration: none; } BODY{ scrollbar-face-color: ##E9D896; scrollbar-shadow-color: #f0f0f0; scrollbar-highlight-color: #ffffff; scrollbar-sdlight-color: #ffffff; scrollbar-darkshadow-color: #ffffff; scrollbar-track-color: #ffffff; scrollbar-arrow-color: #8D875A } </style> <script> function Imprimir_materia(mat_id, edi_id) { window.open(\"../../imprimir.htm?id=\"+mat_id+\"&edi_id=\"+edi_id,\"impressao\",\"width='90%', height='90%' resisable, scrollbars=yes\" ); } function AlertaBloqueio(){ alert('Conteúdo do site bloqueado'); return false; } function RejeitaTecla(oEvent){ var oEvent = oEvent ? oEvent : window.event; var tecla = (oEvent.keyCode) ? oEvent.keyCode : oEvent.which; if(tecla == 17 || tecla == 44|| tecla == 106 ){ AlertaBloqueio(); } } //document.onkeypress = RejeitaTecla; //document.onkeydown = RejeitaTecla; //document.oncontextmenu = AlertaBloqueio; </script> <title> Imprensa Oficial - Prefeitura do Rio de Janeiro </title> </head> <body lang=\"PT-BR\" style=\"font-size:7pt;\"> <table align=\"center\" width=\"100%\"> <tbody> <tr> <td> <table align=\"center\" width=\"50%\"> <tbody> <tr> <td align=\"center\" colspan=\"3\" style=\"padding-left:15px;padding-top:10px;\"> <a href=\"../../\" target=\"_top\"> <img border=\"0\" src=\"../../images/logo.jpg\"/> </a> </td> <!--td style=\"padding-left:205px;\" width=\"48%\"> <b><font face=\"Verdana\" size=\"2\" color=\"#738197\"></font></b> </td> <td align=\"right\" style=\"padding-right:15px;\"> <img src=\"images/logo_governo.gif\" border=\"0\"> </td!--> </tr> </tbody> </table> <table width=\"100%\"> <tbody> <tr> <td valign=\"middle\"> <a href=\"#\" onclick=\"javascript:Imprimir_materia(12906, 1827)\"> <img border=\"0\" height=\"25px\" hspace=\"5\" src=\"../../images/impressora01.gif\" width=\"25px\"/> <font class=\"d_rtf\"> Imprimir </font> </a> <hr/> </td> </tr> </tbody> </table> <table align=\"left\" class=\"topo_materia\" width=\"30%\"> <tbody> <tr> <td colspan=\"2\"> </td> </tr> <tr> <td align=\"left\"> <b> Diário Oficial nº : </b> </td> <td style=\"padding-left:10px;\"> 90 </td> </tr> <tr valign=\"middle\"> <td align=\"left\"> <b> Data de publicação: </b> </td> <td> 27/07/2012 </td> </tr> <tr> <td align=\"left\"> <b> Matéria nº : </b> </td> <td style=\"padding-left:10px;\"> 12906 </td> </tr> <tr> <!--td align=\"center\" colspan=\"3\"><b></b></td>--> </tr> <tr> <td colspan=\"3\"> </td> </tr> </tbody> </table> </td> </tr> <tr> <td> <table border=\"0\" cellpadding=\"0\" cellspacing=\"0\" style=\"padding-left:40px;\" width=\"95%\"> <tbody> <tr> <td> <style> #pagina { font-size: px; width:0.00cm; width: 9.4cm; color:#000000; } td { font-size: px; } </style> <div id=\"pagina\"> <meta content=\"text/html; charset=utf-8\" http-equiv=\"Content-Type\"/> <meta content=\"Microsoft Word 14 (filtered)\" name=\"Generator\"/> <title> SECRETARIA MUNICIPAL DE HABITAÇÃO </title> <style> <!-- /* Font Definitions */ @font-face {font-family:Wingdings; panose-1:5 0 0 0 0 0 0 0 0 0;} @font-face {font-family:\"MS Mincho\"; panose-1:2 2 6 9 4 2 5 8 3 4;} @font-face {font-family:\"MS Mincho\"; panose-1:2 2 6 9 4 2 5 8 3 4;} @font-face {font-family:Tahoma; panose-1:2 11 6 4 3 5 4 4 2 4;} @font-face {font-family:\"\\@MS Mincho\"; panose-1:2 2 6 9 4 2 5 8 3 4;} /* Style Definitions */ p.MsoNormal, li.MsoNormal, div.MsoNormal {margin:0cm; margin-bottom:.0001pt; font-size:10.0pt; font-family:\"Times New Roman\",\"serif\";} h1 {mso-style-link:\"Título 1 Char\"; margin:0cm; margin-bottom:.0001pt; text-indent:0cm; page-break-after:avoid; font-size:12.0pt; font-family:\"Arial\",\"sans-serif\";} h2 {mso-style-link:\"Título 2 Char\"; margin:0cm; margin-bottom:.0001pt; text-indent:0cm; page-break-after:avoid; font-size:12.0pt; font-family:\"Times New Roman\",\"serif\";} h3 {mso-style-link:\"Título 3 Char\"; margin:0cm; margin-bottom:.0001pt; text-align:center; text-indent:0cm; page-break-after:avoid; font-size:12.0pt; font-family:\"Arial\",\"sans-serif\";} p.MsoHeader, li.MsoHeader, div.MsoHeader {mso-style-link:\"Cabeçalho Char\"; margin:0cm; margin-bottom:.0001pt; font-size:10.0pt; font-family:\"Times New Roman\",\"serif\";} p.MsoFooter, li.MsoFooter, div.MsoFooter {mso-style-link:\"Rodapé Char\"; margin:0cm; margin-bottom:.0001pt; font-size:10.0pt; font-family:\"Times New Roman\",\"serif\";} p.MsoList, li.MsoList, div.MsoList {margin-top:0cm; margin-right:-.05pt; margin-bottom:0cm; margin-left:0cm; margin-bottom:.0001pt; text-align:justify; font-size:12.0pt; font-family:\"Arial\",\"sans-serif\"; font-weight:bold;} p.MsoTitle, li.MsoTitle, div.MsoTitle {mso-style-link:\"Título Char\"; margin-top:12.0pt; margin-right:0cm; margin-bottom:6.0pt; margin-left:0cm; page-break-after:avoid; font-size:14.0pt; font-family:\"Arial\",\"sans-serif\";} p.MsoBodyText, li.MsoBodyText, div.MsoBodyText {mso-style-link:\"Corpo de texto Char\"; margin-top:0cm; margin-right:-.05pt; margin-bottom:0cm; margin-left:0cm; margin-bottom:.0001pt; text-align:justify; font-size:12.0pt; font-family:\"Arial\",\"sans-serif\"; font-weight:bold;} p.MsoSubtitle, li.MsoSubtitle, div.MsoSubtitle {mso-style-link:\"Subtítulo Char\"; margin-top:12.0pt; margin-right:0cm; margin-bottom:6.0pt; margin-left:0cm; text-align:center; page-break-after:avoid; font-size:14.0pt; font-family:\"Arial\",\"sans-serif\"; font-style:italic;} p.MsoAcetate, li.MsoAcetate, div.MsoAcetate {mso-style-link:\"Texto de balão Char\"; margin:0cm; margin-bottom:.0001pt; font-size:8.0pt; font-family:\"Tahoma\",\"sans-serif\";} span.Ttulo1Char {mso-style-name:\"Título 1 Char\"; mso-style-link:\"Título 1\"; font-family:\"Cambria\",\"serif\"; font-weight:bold;} span.Ttulo2Char {mso-style-name:\"Título 2 Char\"; mso-style-link:\"Título 2\"; font-family:\"Cambria\",\"serif\"; font-weight:bold; font-style:italic;} span.Ttulo3Char {mso-style-name:\"Título 3 Char\"; mso-style-link:\"Título 3\"; font-family:\"Cambria\",\"serif\"; font-weight:bold;} span.Absatz-Standardschriftart {mso-style-name:Absatz-Standardschriftart;} span.WW-Absatz-Standardschriftart {mso-style-name:WW-Absatz-Standardschriftart;} span.WW8Num2z0 {mso-style-name:WW8Num2z0; font-family:Symbol;} span.Fontepargpadro1 {mso-style-name:\"Fonte parág\\. padrão1\";} span.WW-Fontepargpadro {mso-style-name:\"WW-Fonte parág\\. padrão\";} span.WW8Num1z0 {mso-style-name:WW8Num1z0; font-family:Symbol;} span.WW8Num3z0 {mso-style-name:WW8Num3z0; font-family:Symbol;} span.WW8Num4z0 {mso-style-name:WW8Num4z0; font-family:Symbol;} span.WW8Num5z0 {mso-style-name:WW8Num5z0; font-family:Symbol;} span.WW8Num6z0 {mso-style-name:WW8Num6z0; font-family:Symbol;} span.WW8Num7z0 {mso-style-name:WW8Num7z0; font-family:Symbol;} span.WW8Num8z0 {mso-style-name:WW8Num8z0; font-family:Symbol;} span.WW8Num9z0 {mso-style-name:WW8Num9z0; font-family:Symbol;} span.WW8Num10z0 {mso-style-name:WW8Num10z0; font-family:Symbol;} span.WW8Num11z0 {mso-style-name:WW8Num11z0; font-family:Wingdings;} span.WW8Num12z0 {mso-style-name:WW8Num12z0; font-family:Symbol;} span.WW8Num13z0 {mso-style-name:WW8Num13z0; font-family:Symbol;} span.WW-Fontepargpadro1 {mso-style-name:\"WW-Fonte parág\\. padrão1\";} p.Captulo, li.Captulo, div.Captulo {mso-style-name:Capítulo; margin-top:12.0pt; margin-right:0cm; margin-bottom:6.0pt; margin-left:0cm; page-break-after:avoid; font-size:14.0pt; font-family:\"Arial\",\"sans-serif\";} span.CorpodetextoChar {mso-style-name:\"Corpo de texto Char\"; mso-style-link:\"Corpo de texto\";} p.Legenda1, li.Legenda1, div.Legenda1 {mso-style-name:Legenda1; margin-top:6.0pt; margin-right:0cm; margin-bottom:6.0pt; margin-left:0cm; font-size:12.0pt; font-family:\"Times New Roman\",\"serif\"; font-style:italic;} p.ndice, li.ndice, div.ndice {mso-style-name:Índice; margin:0cm; margin-bottom:.0001pt; font-size:10.0pt; font-family:\"Times New Roman\",\"serif\";} span.TtuloChar {mso-style-name:\"Título Char\"; mso-style-link:Título; font-family:\"Cambria\",\"serif\"; font-weight:bold;} span.SubttuloChar {mso-style-name:\"Subtítulo Char\"; mso-style-link:Subtítulo; font-family:\"Cambria\",\"serif\";} span.CabealhoChar {mso-style-name:\"Cabeçalho Char\"; mso-style-link:Cabeçalho;} span.RodapChar {mso-style-name:\"Rodapé Char\"; mso-style-link:Rodapé;} p.Corpodetexto21, li.Corpodetexto21, div.Corpodetexto21 {mso-style-name:\"Corpo de texto 21\"; margin-top:0cm; margin-right:45.0pt; margin-bottom:0cm; margin-left:0cm; margin-bottom:.0001pt; text-align:justify; font-size:12.0pt; font-family:\"Arial\",\"sans-serif\"; font-weight:bold;} p.WW-Ttulo, li.WW-Ttulo, div.WW-Ttulo {mso-style-name:WW-Título; margin:0cm; margin-bottom:.0001pt; text-align:center; font-size:12.0pt; font-family:\"Arial\",\"sans-serif\"; font-weight:bold;} p.Corpodetexto31, li.Corpodetexto31, div.Corpodetexto31 {mso-style-name:\"Corpo de texto 31\"; margin-top:0cm; margin-right:14.15pt; margin-bottom:0cm; margin-left:0cm; margin-bottom:.0001pt; text-align:justify; font-size:12.0pt; font-family:\"Arial\",\"sans-serif\"; font-weight:bold;} span.TextodebaloChar {mso-style-name:\"Texto de balão Char\"; mso-style-link:\"Texto de balão\"; font-family:\"Tahoma\",\"sans-serif\";} /* Page Definitions */ @page WordSection1 {size:8.0cm 841.85pt; margin:0cm 0cm 0cm 0cm;} div.WordSection1 {page:WordSection1;} /* List Definitions */ ol {margin-bottom:0cm;} ul {margin-bottom:0cm;} --> </style> <div class=\"WordSection1\"> <p align=\"center\" class=\"MsoNormal\" style=\"text-align:center;line-height:8.5pt\"> <b> <span style='font-size:7.0pt;font-family:\"Arial\",\"sans-serif\";color:black'> DESPACHO DO SECRETÁRIO </span> </b> </p> <p align=\"center\" class=\"MsoNormal\" style=\"text-align:center;line-height:8.5pt\"> <b> <span style='font-size:7.0pt;font-family:\"Arial\",\"sans-serif\";color:black'> EXPEDIENTE DE 26 / 07 / 2012 </span> </b> </p> <p class=\"MsoNormal\" style=\"line-height:8.5pt\"> <span style='font-size:7.0pt; font-family:\"Arial\",\"sans-serif\"'> </span> </p> <p class=\"MsoBodyText\" style=\"margin-right:0cm;line-height:8.5pt\"> <span style=\"font-size:7.0pt;color:black\"> 16/001.083/10 - Conforme informação da fiscalização às fls. 1.038, autorizo início a partir de 23/07/12 dos Projetos para o Complexo dos Coqueiros, referente ao contrato n.º 034/2012 a cargo da empresa Concremat Engenharia e Tecnologia </span> <span style=\"font-size:7.0pt; color:black\"> Ltda </span> <span style=\"font-size:7.0pt;color:black\"> . </span> </p> </div> </div> <!-- final da div q arruma a materia--> </td> </tr> <tr> <td> </td> </tr> <tr> <td> <i> <sup> * </sup> Este texto não substitui o publicado no Diário Oficial </i> </td> </tr> <tr> <td> </td> </tr> </tbody> </table> </td> </tr> <tr> <td> <hr/> <a href=\"#\" onclick=\"javascript:Imprimir_materia(12906, 1827)\"> <img border=\"0\" height=\"25px\" hspace=\"5\" src=\"../../images/impressora01.gif\" width=\"25px\"/> <font class=\"d_rtf\"> Imprimir </font> </a> </td> </tr> <tr> <td> </td> </tr> <tr> <td> </td> </tr> <!--<tr> <td> <table border=\"0\" align=\"center\" width=\"100%\"> <tr> <td align=\"right\"><a style=\"cursor:hand;\" onclick=\"self.print()\"><img src=\"images/btn_imprimir\" width=\"79\" height=\"24\" border=\"0\" alt=\"clique para imprimir\"></a></td> </tr> </table> </td> </tr>--> </tbody> </table> </body></html> \n",
      "\n",
      "1 \n",
      " <head> <style> .topo_materia{ font-family: Verdana; font-size: 8pt; color: #000000; } .d_rtf{ font-family: Verdana; font-size: 12px; font-size-adjust: 0.4; color: #000000; font-weight: bold; vertical-align:30%; } a{ color:#000000; text-decoration: none; } a:hover{ color:#666666; font-weight: normal; text-decoration: none; } BODY{ scrollbar-face-color: ##E9D896; scrollbar-shadow-color: #f0f0f0; scrollbar-highlight-color: #ffffff; scrollbar-sdlight-color: #ffffff; scrollbar-darkshadow-color: #ffffff; scrollbar-track-color: #ffffff; scrollbar-arrow-color: #8D875A } </style> <script> function Imprimir_materia(mat_id, edi_id) { window.open(\"../../imprimir.htm?id=\"+mat_id+\"&edi_id=\"+edi_id,\"impressao\",\"width='90%', height='90%' resisable, scrollbars=yes\" ); } function AlertaBloqueio(){ alert('Conteúdo do site bloqueado'); return false; } function RejeitaTecla(oEvent){ var oEvent = oEvent ? oEvent : window.event; var tecla = (oEvent.keyCode) ? oEvent.keyCode : oEvent.which; if(tecla == 17 || tecla == 44|| tecla == 106 ){ AlertaBloqueio(); } } //document.onkeypress = RejeitaTecla; //document.onkeydown = RejeitaTecla; //document.oncontextmenu = AlertaBloqueio; </script> <title> Imprensa Oficial - Prefeitura do Rio de Janeiro </title> </head> \n",
      "\n",
      "2 \n",
      " <style> .topo_materia{ font-family: Verdana; font-size: 8pt; color: #000000; } .d_rtf{ font-family: Verdana; font-size: 12px; font-size-adjust: 0.4; color: #000000; font-weight: bold; vertical-align:30%; } a{ color:#000000; text-decoration: none; } a:hover{ color:#666666; font-weight: normal; text-decoration: none; } BODY{ scrollbar-face-color: ##E9D896; scrollbar-shadow-color: #f0f0f0; scrollbar-highlight-color: #ffffff; scrollbar-sdlight-color: #ffffff; scrollbar-darkshadow-color: #ffffff; scrollbar-track-color: #ffffff; scrollbar-arrow-color: #8D875A } </style> \n",
      "\n",
      "3 \n",
      " <script> function Imprimir_materia(mat_id, edi_id) { window.open(\"../../imprimir.htm?id=\"+mat_id+\"&edi_id=\"+edi_id,\"impressao\",\"width='90%', height='90%' resisable, scrollbars=yes\" ); } function AlertaBloqueio(){ alert('Conteúdo do site bloqueado'); return false; } function RejeitaTecla(oEvent){ var oEvent = oEvent ? oEvent : window.event; var tecla = (oEvent.keyCode) ? oEvent.keyCode : oEvent.which; if(tecla == 17 || tecla == 44|| tecla == 106 ){ AlertaBloqueio(); } } //document.onkeypress = RejeitaTecla; //document.onkeydown = RejeitaTecla; //document.oncontextmenu = AlertaBloqueio; </script> \n",
      "\n",
      "4 \n",
      " <title> Imprensa Oficial - Prefeitura do Rio de Janeiro </title> \n",
      "\n",
      "5 \n",
      " <body lang=\"PT-BR\" style=\"font-size:7pt;\"> <table align=\"center\" width=\"100%\"> <tbody> <tr> <td> <table align=\"center\" width=\"50%\"> <tbody> <tr> <td align=\"center\" colspan=\"3\" style=\"padding-left:15px;padding-top:10px;\"> <a href=\"../../\" target=\"_top\"> <img border=\"0\" src=\"../../images/logo.jpg\"/> </a> </td> <!--td style=\"padding-left:205px;\" width=\"48%\"> <b><font face=\"Verdana\" size=\"2\" color=\"#738197\"></font></b> </td> <td align=\"right\" style=\"padding-right:15px;\"> <img src=\"images/logo_governo.gif\" border=\"0\"> </td!--> </tr> </tbody> </table> <table width=\"100%\"> <tbody> <tr> <td valign=\"middle\"> <a href=\"#\" onclick=\"javascript:Imprimir_materia(12906, 1827)\"> <img border=\"0\" height=\"25px\" hspace=\"5\" src=\"../../images/impressora01.gif\" width=\"25px\"/> <font class=\"d_rtf\"> Imprimir </font> </a> <hr/> </td> </tr> </tbody> </table> <table align=\"left\" class=\"topo_materia\" width=\"30%\"> <tbody> <tr> <td colspan=\"2\"> </td> </tr> <tr> <td align=\"left\"> <b> Diário Oficial nº : </b> </td> <td style=\"padding-left:10px;\"> 90 </td> </tr> <tr valign=\"middle\"> <td align=\"left\"> <b> Data de publicação: </b> </td> <td> 27/07/2012 </td> </tr> <tr> <td align=\"left\"> <b> Matéria nº : </b> </td> <td style=\"padding-left:10px;\"> 12906 </td> </tr> <tr> <!--td align=\"center\" colspan=\"3\"><b></b></td>--> </tr> <tr> <td colspan=\"3\"> </td> </tr> </tbody> </table> </td> </tr> <tr> <td> <table border=\"0\" cellpadding=\"0\" cellspacing=\"0\" style=\"padding-left:40px;\" width=\"95%\"> <tbody> <tr> <td> <style> #pagina { font-size: px; width:0.00cm; width: 9.4cm; color:#000000; } td { font-size: px; } </style> <div id=\"pagina\"> <meta content=\"text/html; charset=utf-8\" http-equiv=\"Content-Type\"/> <meta content=\"Microsoft Word 14 (filtered)\" name=\"Generator\"/> <title> SECRETARIA MUNICIPAL DE HABITAÇÃO </title> <style> <!-- /* Font Definitions */ @font-face {font-family:Wingdings; panose-1:5 0 0 0 0 0 0 0 0 0;} @font-face {font-family:\"MS Mincho\"; panose-1:2 2 6 9 4 2 5 8 3 4;} @font-face {font-family:\"MS Mincho\"; panose-1:2 2 6 9 4 2 5 8 3 4;} @font-face {font-family:Tahoma; panose-1:2 11 6 4 3 5 4 4 2 4;} @font-face {font-family:\"\\@MS Mincho\"; panose-1:2 2 6 9 4 2 5 8 3 4;} /* Style Definitions */ p.MsoNormal, li.MsoNormal, div.MsoNormal {margin:0cm; margin-bottom:.0001pt; font-size:10.0pt; font-family:\"Times New Roman\",\"serif\";} h1 {mso-style-link:\"Título 1 Char\"; margin:0cm; margin-bottom:.0001pt; text-indent:0cm; page-break-after:avoid; font-size:12.0pt; font-family:\"Arial\",\"sans-serif\";} h2 {mso-style-link:\"Título 2 Char\"; margin:0cm; margin-bottom:.0001pt; text-indent:0cm; page-break-after:avoid; font-size:12.0pt; font-family:\"Times New Roman\",\"serif\";} h3 {mso-style-link:\"Título 3 Char\"; margin:0cm; margin-bottom:.0001pt; text-align:center; text-indent:0cm; page-break-after:avoid; font-size:12.0pt; font-family:\"Arial\",\"sans-serif\";} p.MsoHeader, li.MsoHeader, div.MsoHeader {mso-style-link:\"Cabeçalho Char\"; margin:0cm; margin-bottom:.0001pt; font-size:10.0pt; font-family:\"Times New Roman\",\"serif\";} p.MsoFooter, li.MsoFooter, div.MsoFooter {mso-style-link:\"Rodapé Char\"; margin:0cm; margin-bottom:.0001pt; font-size:10.0pt; font-family:\"Times New Roman\",\"serif\";} p.MsoList, li.MsoList, div.MsoList {margin-top:0cm; margin-right:-.05pt; margin-bottom:0cm; margin-left:0cm; margin-bottom:.0001pt; text-align:justify; font-size:12.0pt; font-family:\"Arial\",\"sans-serif\"; font-weight:bold;} p.MsoTitle, li.MsoTitle, div.MsoTitle {mso-style-link:\"Título Char\"; margin-top:12.0pt; margin-right:0cm; margin-bottom:6.0pt; margin-left:0cm; page-break-after:avoid; font-size:14.0pt; font-family:\"Arial\",\"sans-serif\";} p.MsoBodyText, li.MsoBodyText, div.MsoBodyText {mso-style-link:\"Corpo de texto Char\"; margin-top:0cm; margin-right:-.05pt; margin-bottom:0cm; margin-left:0cm; margin-bottom:.0001pt; text-align:justify; font-size:12.0pt; font-family:\"Arial\",\"sans-serif\"; font-weight:bold;} p.MsoSubtitle, li.MsoSubtitle, div.MsoSubtitle {mso-style-link:\"Subtítulo Char\"; margin-top:12.0pt; margin-right:0cm; margin-bottom:6.0pt; margin-left:0cm; text-align:center; page-break-after:avoid; font-size:14.0pt; font-family:\"Arial\",\"sans-serif\"; font-style:italic;} p.MsoAcetate, li.MsoAcetate, div.MsoAcetate {mso-style-link:\"Texto de balão Char\"; margin:0cm; margin-bottom:.0001pt; font-size:8.0pt; font-family:\"Tahoma\",\"sans-serif\";} span.Ttulo1Char {mso-style-name:\"Título 1 Char\"; mso-style-link:\"Título 1\"; font-family:\"Cambria\",\"serif\"; font-weight:bold;} span.Ttulo2Char {mso-style-name:\"Título 2 Char\"; mso-style-link:\"Título 2\"; font-family:\"Cambria\",\"serif\"; font-weight:bold; font-style:italic;} span.Ttulo3Char {mso-style-name:\"Título 3 Char\"; mso-style-link:\"Título 3\"; font-family:\"Cambria\",\"serif\"; font-weight:bold;} span.Absatz-Standardschriftart {mso-style-name:Absatz-Standardschriftart;} span.WW-Absatz-Standardschriftart {mso-style-name:WW-Absatz-Standardschriftart;} span.WW8Num2z0 {mso-style-name:WW8Num2z0; font-family:Symbol;} span.Fontepargpadro1 {mso-style-name:\"Fonte parág\\. padrão1\";} span.WW-Fontepargpadro {mso-style-name:\"WW-Fonte parág\\. padrão\";} span.WW8Num1z0 {mso-style-name:WW8Num1z0; font-family:Symbol;} span.WW8Num3z0 {mso-style-name:WW8Num3z0; font-family:Symbol;} span.WW8Num4z0 {mso-style-name:WW8Num4z0; font-family:Symbol;} span.WW8Num5z0 {mso-style-name:WW8Num5z0; font-family:Symbol;} span.WW8Num6z0 {mso-style-name:WW8Num6z0; font-family:Symbol;} span.WW8Num7z0 {mso-style-name:WW8Num7z0; font-family:Symbol;} span.WW8Num8z0 {mso-style-name:WW8Num8z0; font-family:Symbol;} span.WW8Num9z0 {mso-style-name:WW8Num9z0; font-family:Symbol;} span.WW8Num10z0 {mso-style-name:WW8Num10z0; font-family:Symbol;} span.WW8Num11z0 {mso-style-name:WW8Num11z0; font-family:Wingdings;} span.WW8Num12z0 {mso-style-name:WW8Num12z0; font-family:Symbol;} span.WW8Num13z0 {mso-style-name:WW8Num13z0; font-family:Symbol;} span.WW-Fontepargpadro1 {mso-style-name:\"WW-Fonte parág\\. padrão1\";} p.Captulo, li.Captulo, div.Captulo {mso-style-name:Capítulo; margin-top:12.0pt; margin-right:0cm; margin-bottom:6.0pt; margin-left:0cm; page-break-after:avoid; font-size:14.0pt; font-family:\"Arial\",\"sans-serif\";} span.CorpodetextoChar {mso-style-name:\"Corpo de texto Char\"; mso-style-link:\"Corpo de texto\";} p.Legenda1, li.Legenda1, div.Legenda1 {mso-style-name:Legenda1; margin-top:6.0pt; margin-right:0cm; margin-bottom:6.0pt; margin-left:0cm; font-size:12.0pt; font-family:\"Times New Roman\",\"serif\"; font-style:italic;} p.ndice, li.ndice, div.ndice {mso-style-name:Índice; margin:0cm; margin-bottom:.0001pt; font-size:10.0pt; font-family:\"Times New Roman\",\"serif\";} span.TtuloChar {mso-style-name:\"Título Char\"; mso-style-link:Título; font-family:\"Cambria\",\"serif\"; font-weight:bold;} span.SubttuloChar {mso-style-name:\"Subtítulo Char\"; mso-style-link:Subtítulo; font-family:\"Cambria\",\"serif\";} span.CabealhoChar {mso-style-name:\"Cabeçalho Char\"; mso-style-link:Cabeçalho;} span.RodapChar {mso-style-name:\"Rodapé Char\"; mso-style-link:Rodapé;} p.Corpodetexto21, li.Corpodetexto21, div.Corpodetexto21 {mso-style-name:\"Corpo de texto 21\"; margin-top:0cm; margin-right:45.0pt; margin-bottom:0cm; margin-left:0cm; margin-bottom:.0001pt; text-align:justify; font-size:12.0pt; font-family:\"Arial\",\"sans-serif\"; font-weight:bold;} p.WW-Ttulo, li.WW-Ttulo, div.WW-Ttulo {mso-style-name:WW-Título; margin:0cm; margin-bottom:.0001pt; text-align:center; font-size:12.0pt; font-family:\"Arial\",\"sans-serif\"; font-weight:bold;} p.Corpodetexto31, li.Corpodetexto31, div.Corpodetexto31 {mso-style-name:\"Corpo de texto 31\"; margin-top:0cm; margin-right:14.15pt; margin-bottom:0cm; margin-left:0cm; margin-bottom:.0001pt; text-align:justify; font-size:12.0pt; font-family:\"Arial\",\"sans-serif\"; font-weight:bold;} span.TextodebaloChar {mso-style-name:\"Texto de balão Char\"; mso-style-link:\"Texto de balão\"; font-family:\"Tahoma\",\"sans-serif\";} /* Page Definitions */ @page WordSection1 {size:8.0cm 841.85pt; margin:0cm 0cm 0cm 0cm;} div.WordSection1 {page:WordSection1;} /* List Definitions */ ol {margin-bottom:0cm;} ul {margin-bottom:0cm;} --> </style> <div class=\"WordSection1\"> <p align=\"center\" class=\"MsoNormal\" style=\"text-align:center;line-height:8.5pt\"> <b> <span style='font-size:7.0pt;font-family:\"Arial\",\"sans-serif\";color:black'> DESPACHO DO SECRETÁRIO </span> </b> </p> <p align=\"center\" class=\"MsoNormal\" style=\"text-align:center;line-height:8.5pt\"> <b> <span style='font-size:7.0pt;font-family:\"Arial\",\"sans-serif\";color:black'> EXPEDIENTE DE 26 / 07 / 2012 </span> </b> </p> <p class=\"MsoNormal\" style=\"line-height:8.5pt\"> <span style='font-size:7.0pt; font-family:\"Arial\",\"sans-serif\"'> </span> </p> <p class=\"MsoBodyText\" style=\"margin-right:0cm;line-height:8.5pt\"> <span style=\"font-size:7.0pt;color:black\"> 16/001.083/10 - Conforme informação da fiscalização às fls. 1.038, autorizo início a partir de 23/07/12 dos Projetos para o Complexo dos Coqueiros, referente ao contrato n.º 034/2012 a cargo da empresa Concremat Engenharia e Tecnologia </span> <span style=\"font-size:7.0pt; color:black\"> Ltda </span> <span style=\"font-size:7.0pt;color:black\"> . </span> </p> </div> </div> <!-- final da div q arruma a materia--> </td> </tr> <tr> <td> </td> </tr> <tr> <td> <i> <sup> * </sup> Este texto não substitui o publicado no Diário Oficial </i> </td> </tr> <tr> <td> </td> </tr> </tbody> </table> </td> </tr> <tr> <td> <hr/> <a href=\"#\" onclick=\"javascript:Imprimir_materia(12906, 1827)\"> <img border=\"0\" height=\"25px\" hspace=\"5\" src=\"../../images/impressora01.gif\" width=\"25px\"/> <font class=\"d_rtf\"> Imprimir </font> </a> </td> </tr> <tr> <td> </td> </tr> <tr> <td> </td> </tr> <!--<tr> <td> <table border=\"0\" align=\"center\" width=\"100%\"> <tr> <td align=\"right\"><a style=\"cursor:hand;\" onclick=\"self.print()\"><img src=\"images/btn_imprimir\" width=\"79\" height=\"24\" border=\"0\" alt=\"clique para imprimir\"></a></td> </tr> </table> </td> </tr>--> </tbody> </table> </body> \n",
      "\n",
      "6 \n",
      " <table align=\"center\" width=\"100%\"> <tbody> <tr> <td> <table align=\"center\" width=\"50%\"> <tbody> <tr> <td align=\"center\" colspan=\"3\" style=\"padding-left:15px;padding-top:10px;\"> <a href=\"../../\" target=\"_top\"> <img border=\"0\" src=\"../../images/logo.jpg\"/> </a> </td> <!--td style=\"padding-left:205px;\" width=\"48%\"> <b><font face=\"Verdana\" size=\"2\" color=\"#738197\"></font></b> </td> <td align=\"right\" style=\"padding-right:15px;\"> <img src=\"images/logo_governo.gif\" border=\"0\"> </td!--> </tr> </tbody> </table> <table width=\"100%\"> <tbody> <tr> <td valign=\"middle\"> <a href=\"#\" onclick=\"javascript:Imprimir_materia(12906, 1827)\"> <img border=\"0\" height=\"25px\" hspace=\"5\" src=\"../../images/impressora01.gif\" width=\"25px\"/> <font class=\"d_rtf\"> Imprimir </font> </a> <hr/> </td> </tr> </tbody> </table> <table align=\"left\" class=\"topo_materia\" width=\"30%\"> <tbody> <tr> <td colspan=\"2\"> </td> </tr> <tr> <td align=\"left\"> <b> Diário Oficial nº : </b> </td> <td style=\"padding-left:10px;\"> 90 </td> </tr> <tr valign=\"middle\"> <td align=\"left\"> <b> Data de publicação: </b> </td> <td> 27/07/2012 </td> </tr> <tr> <td align=\"left\"> <b> Matéria nº : </b> </td> <td style=\"padding-left:10px;\"> 12906 </td> </tr> <tr> <!--td align=\"center\" colspan=\"3\"><b></b></td>--> </tr> <tr> <td colspan=\"3\"> </td> </tr> </tbody> </table> </td> </tr> <tr> <td> <table border=\"0\" cellpadding=\"0\" cellspacing=\"0\" style=\"padding-left:40px;\" width=\"95%\"> <tbody> <tr> <td> <style> #pagina { font-size: px; width:0.00cm; width: 9.4cm; color:#000000; } td { font-size: px; } </style> <div id=\"pagina\"> <meta content=\"text/html; charset=utf-8\" http-equiv=\"Content-Type\"/> <meta content=\"Microsoft Word 14 (filtered)\" name=\"Generator\"/> <title> SECRETARIA MUNICIPAL DE HABITAÇÃO </title> <style> <!-- /* Font Definitions */ @font-face {font-family:Wingdings; panose-1:5 0 0 0 0 0 0 0 0 0;} @font-face {font-family:\"MS Mincho\"; panose-1:2 2 6 9 4 2 5 8 3 4;} @font-face {font-family:\"MS Mincho\"; panose-1:2 2 6 9 4 2 5 8 3 4;} @font-face {font-family:Tahoma; panose-1:2 11 6 4 3 5 4 4 2 4;} @font-face {font-family:\"\\@MS Mincho\"; panose-1:2 2 6 9 4 2 5 8 3 4;} /* Style Definitions */ p.MsoNormal, li.MsoNormal, div.MsoNormal {margin:0cm; margin-bottom:.0001pt; font-size:10.0pt; font-family:\"Times New Roman\",\"serif\";} h1 {mso-style-link:\"Título 1 Char\"; margin:0cm; margin-bottom:.0001pt; text-indent:0cm; page-break-after:avoid; font-size:12.0pt; font-family:\"Arial\",\"sans-serif\";} h2 {mso-style-link:\"Título 2 Char\"; margin:0cm; margin-bottom:.0001pt; text-indent:0cm; page-break-after:avoid; font-size:12.0pt; font-family:\"Times New Roman\",\"serif\";} h3 {mso-style-link:\"Título 3 Char\"; margin:0cm; margin-bottom:.0001pt; text-align:center; text-indent:0cm; page-break-after:avoid; font-size:12.0pt; font-family:\"Arial\",\"sans-serif\";} p.MsoHeader, li.MsoHeader, div.MsoHeader {mso-style-link:\"Cabeçalho Char\"; margin:0cm; margin-bottom:.0001pt; font-size:10.0pt; font-family:\"Times New Roman\",\"serif\";} p.MsoFooter, li.MsoFooter, div.MsoFooter {mso-style-link:\"Rodapé Char\"; margin:0cm; margin-bottom:.0001pt; font-size:10.0pt; font-family:\"Times New Roman\",\"serif\";} p.MsoList, li.MsoList, div.MsoList {margin-top:0cm; margin-right:-.05pt; margin-bottom:0cm; margin-left:0cm; margin-bottom:.0001pt; text-align:justify; font-size:12.0pt; font-family:\"Arial\",\"sans-serif\"; font-weight:bold;} p.MsoTitle, li.MsoTitle, div.MsoTitle {mso-style-link:\"Título Char\"; margin-top:12.0pt; margin-right:0cm; margin-bottom:6.0pt; margin-left:0cm; page-break-after:avoid; font-size:14.0pt; font-family:\"Arial\",\"sans-serif\";} p.MsoBodyText, li.MsoBodyText, div.MsoBodyText {mso-style-link:\"Corpo de texto Char\"; margin-top:0cm; margin-right:-.05pt; margin-bottom:0cm; margin-left:0cm; margin-bottom:.0001pt; text-align:justify; font-size:12.0pt; font-family:\"Arial\",\"sans-serif\"; font-weight:bold;} p.MsoSubtitle, li.MsoSubtitle, div.MsoSubtitle {mso-style-link:\"Subtítulo Char\"; margin-top:12.0pt; margin-right:0cm; margin-bottom:6.0pt; margin-left:0cm; text-align:center; page-break-after:avoid; font-size:14.0pt; font-family:\"Arial\",\"sans-serif\"; font-style:italic;} p.MsoAcetate, li.MsoAcetate, div.MsoAcetate {mso-style-link:\"Texto de balão Char\"; margin:0cm; margin-bottom:.0001pt; font-size:8.0pt; font-family:\"Tahoma\",\"sans-serif\";} span.Ttulo1Char {mso-style-name:\"Título 1 Char\"; mso-style-link:\"Título 1\"; font-family:\"Cambria\",\"serif\"; font-weight:bold;} span.Ttulo2Char {mso-style-name:\"Título 2 Char\"; mso-style-link:\"Título 2\"; font-family:\"Cambria\",\"serif\"; font-weight:bold; font-style:italic;} span.Ttulo3Char {mso-style-name:\"Título 3 Char\"; mso-style-link:\"Título 3\"; font-family:\"Cambria\",\"serif\"; font-weight:bold;} span.Absatz-Standardschriftart {mso-style-name:Absatz-Standardschriftart;} span.WW-Absatz-Standardschriftart {mso-style-name:WW-Absatz-Standardschriftart;} span.WW8Num2z0 {mso-style-name:WW8Num2z0; font-family:Symbol;} span.Fontepargpadro1 {mso-style-name:\"Fonte parág\\. padrão1\";} span.WW-Fontepargpadro {mso-style-name:\"WW-Fonte parág\\. padrão\";} span.WW8Num1z0 {mso-style-name:WW8Num1z0; font-family:Symbol;} span.WW8Num3z0 {mso-style-name:WW8Num3z0; font-family:Symbol;} span.WW8Num4z0 {mso-style-name:WW8Num4z0; font-family:Symbol;} span.WW8Num5z0 {mso-style-name:WW8Num5z0; font-family:Symbol;} span.WW8Num6z0 {mso-style-name:WW8Num6z0; font-family:Symbol;} span.WW8Num7z0 {mso-style-name:WW8Num7z0; font-family:Symbol;} span.WW8Num8z0 {mso-style-name:WW8Num8z0; font-family:Symbol;} span.WW8Num9z0 {mso-style-name:WW8Num9z0; font-family:Symbol;} span.WW8Num10z0 {mso-style-name:WW8Num10z0; font-family:Symbol;} span.WW8Num11z0 {mso-style-name:WW8Num11z0; font-family:Wingdings;} span.WW8Num12z0 {mso-style-name:WW8Num12z0; font-family:Symbol;} span.WW8Num13z0 {mso-style-name:WW8Num13z0; font-family:Symbol;} span.WW-Fontepargpadro1 {mso-style-name:\"WW-Fonte parág\\. padrão1\";} p.Captulo, li.Captulo, div.Captulo {mso-style-name:Capítulo; margin-top:12.0pt; margin-right:0cm; margin-bottom:6.0pt; margin-left:0cm; page-break-after:avoid; font-size:14.0pt; font-family:\"Arial\",\"sans-serif\";} span.CorpodetextoChar {mso-style-name:\"Corpo de texto Char\"; mso-style-link:\"Corpo de texto\";} p.Legenda1, li.Legenda1, div.Legenda1 {mso-style-name:Legenda1; margin-top:6.0pt; margin-right:0cm; margin-bottom:6.0pt; margin-left:0cm; font-size:12.0pt; font-family:\"Times New Roman\",\"serif\"; font-style:italic;} p.ndice, li.ndice, div.ndice {mso-style-name:Índice; margin:0cm; margin-bottom:.0001pt; font-size:10.0pt; font-family:\"Times New Roman\",\"serif\";} span.TtuloChar {mso-style-name:\"Título Char\"; mso-style-link:Título; font-family:\"Cambria\",\"serif\"; font-weight:bold;} span.SubttuloChar {mso-style-name:\"Subtítulo Char\"; mso-style-link:Subtítulo; font-family:\"Cambria\",\"serif\";} span.CabealhoChar {mso-style-name:\"Cabeçalho Char\"; mso-style-link:Cabeçalho;} span.RodapChar {mso-style-name:\"Rodapé Char\"; mso-style-link:Rodapé;} p.Corpodetexto21, li.Corpodetexto21, div.Corpodetexto21 {mso-style-name:\"Corpo de texto 21\"; margin-top:0cm; margin-right:45.0pt; margin-bottom:0cm; margin-left:0cm; margin-bottom:.0001pt; text-align:justify; font-size:12.0pt; font-family:\"Arial\",\"sans-serif\"; font-weight:bold;} p.WW-Ttulo, li.WW-Ttulo, div.WW-Ttulo {mso-style-name:WW-Título; margin:0cm; margin-bottom:.0001pt; text-align:center; font-size:12.0pt; font-family:\"Arial\",\"sans-serif\"; font-weight:bold;} p.Corpodetexto31, li.Corpodetexto31, div.Corpodetexto31 {mso-style-name:\"Corpo de texto 31\"; margin-top:0cm; margin-right:14.15pt; margin-bottom:0cm; margin-left:0cm; margin-bottom:.0001pt; text-align:justify; font-size:12.0pt; font-family:\"Arial\",\"sans-serif\"; font-weight:bold;} span.TextodebaloChar {mso-style-name:\"Texto de balão Char\"; mso-style-link:\"Texto de balão\"; font-family:\"Tahoma\",\"sans-serif\";} /* Page Definitions */ @page WordSection1 {size:8.0cm 841.85pt; margin:0cm 0cm 0cm 0cm;} div.WordSection1 {page:WordSection1;} /* List Definitions */ ol {margin-bottom:0cm;} ul {margin-bottom:0cm;} --> </style> <div class=\"WordSection1\"> <p align=\"center\" class=\"MsoNormal\" style=\"text-align:center;line-height:8.5pt\"> <b> <span style='font-size:7.0pt;font-family:\"Arial\",\"sans-serif\";color:black'> DESPACHO DO SECRETÁRIO </span> </b> </p> <p align=\"center\" class=\"MsoNormal\" style=\"text-align:center;line-height:8.5pt\"> <b> <span style='font-size:7.0pt;font-family:\"Arial\",\"sans-serif\";color:black'> EXPEDIENTE DE 26 / 07 / 2012 </span> </b> </p> <p class=\"MsoNormal\" style=\"line-height:8.5pt\"> <span style='font-size:7.0pt; font-family:\"Arial\",\"sans-serif\"'> </span> </p> <p class=\"MsoBodyText\" style=\"margin-right:0cm;line-height:8.5pt\"> <span style=\"font-size:7.0pt;color:black\"> 16/001.083/10 - Conforme informação da fiscalização às fls. 1.038, autorizo início a partir de 23/07/12 dos Projetos para o Complexo dos Coqueiros, referente ao contrato n.º 034/2012 a cargo da empresa Concremat Engenharia e Tecnologia </span> <span style=\"font-size:7.0pt; color:black\"> Ltda </span> <span style=\"font-size:7.0pt;color:black\"> . </span> </p> </div> </div> <!-- final da div q arruma a materia--> </td> </tr> <tr> <td> </td> </tr> <tr> <td> <i> <sup> * </sup> Este texto não substitui o publicado no Diário Oficial </i> </td> </tr> <tr> <td> </td> </tr> </tbody> </table> </td> </tr> <tr> <td> <hr/> <a href=\"#\" onclick=\"javascript:Imprimir_materia(12906, 1827)\"> <img border=\"0\" height=\"25px\" hspace=\"5\" src=\"../../images/impressora01.gif\" width=\"25px\"/> <font class=\"d_rtf\"> Imprimir </font> </a> </td> </tr> <tr> <td> </td> </tr> <tr> <td> </td> </tr> <!--<tr> <td> <table border=\"0\" align=\"center\" width=\"100%\"> <tr> <td align=\"right\"><a style=\"cursor:hand;\" onclick=\"self.print()\"><img src=\"images/btn_imprimir\" width=\"79\" height=\"24\" border=\"0\" alt=\"clique para imprimir\"></a></td> </tr> </table> </td> </tr>--> </tbody> </table> \n",
      "\n",
      "7 \n",
      " <tbody> <tr> <td> <table align=\"center\" width=\"50%\"> <tbody> <tr> <td align=\"center\" colspan=\"3\" style=\"padding-left:15px;padding-top:10px;\"> <a href=\"../../\" target=\"_top\"> <img border=\"0\" src=\"../../images/logo.jpg\"/> </a> </td> <!--td style=\"padding-left:205px;\" width=\"48%\"> <b><font face=\"Verdana\" size=\"2\" color=\"#738197\"></font></b> </td> <td align=\"right\" style=\"padding-right:15px;\"> <img src=\"images/logo_governo.gif\" border=\"0\"> </td!--> </tr> </tbody> </table> <table width=\"100%\"> <tbody> <tr> <td valign=\"middle\"> <a href=\"#\" onclick=\"javascript:Imprimir_materia(12906, 1827)\"> <img border=\"0\" height=\"25px\" hspace=\"5\" src=\"../../images/impressora01.gif\" width=\"25px\"/> <font class=\"d_rtf\"> Imprimir </font> </a> <hr/> </td> </tr> </tbody> </table> <table align=\"left\" class=\"topo_materia\" width=\"30%\"> <tbody> <tr> <td colspan=\"2\"> </td> </tr> <tr> <td align=\"left\"> <b> Diário Oficial nº : </b> </td> <td style=\"padding-left:10px;\"> 90 </td> </tr> <tr valign=\"middle\"> <td align=\"left\"> <b> Data de publicação: </b> </td> <td> 27/07/2012 </td> </tr> <tr> <td align=\"left\"> <b> Matéria nº : </b> </td> <td style=\"padding-left:10px;\"> 12906 </td> </tr> <tr> <!--td align=\"center\" colspan=\"3\"><b></b></td>--> </tr> <tr> <td colspan=\"3\"> </td> </tr> </tbody> </table> </td> </tr> <tr> <td> <table border=\"0\" cellpadding=\"0\" cellspacing=\"0\" style=\"padding-left:40px;\" width=\"95%\"> <tbody> <tr> <td> <style> #pagina { font-size: px; width:0.00cm; width: 9.4cm; color:#000000; } td { font-size: px; } </style> <div id=\"pagina\"> <meta content=\"text/html; charset=utf-8\" http-equiv=\"Content-Type\"/> <meta content=\"Microsoft Word 14 (filtered)\" name=\"Generator\"/> <title> SECRETARIA MUNICIPAL DE HABITAÇÃO </title> <style> <!-- /* Font Definitions */ @font-face {font-family:Wingdings; panose-1:5 0 0 0 0 0 0 0 0 0;} @font-face {font-family:\"MS Mincho\"; panose-1:2 2 6 9 4 2 5 8 3 4;} @font-face {font-family:\"MS Mincho\"; panose-1:2 2 6 9 4 2 5 8 3 4;} @font-face {font-family:Tahoma; panose-1:2 11 6 4 3 5 4 4 2 4;} @font-face {font-family:\"\\@MS Mincho\"; panose-1:2 2 6 9 4 2 5 8 3 4;} /* Style Definitions */ p.MsoNormal, li.MsoNormal, div.MsoNormal {margin:0cm; margin-bottom:.0001pt; font-size:10.0pt; font-family:\"Times New Roman\",\"serif\";} h1 {mso-style-link:\"Título 1 Char\"; margin:0cm; margin-bottom:.0001pt; text-indent:0cm; page-break-after:avoid; font-size:12.0pt; font-family:\"Arial\",\"sans-serif\";} h2 {mso-style-link:\"Título 2 Char\"; margin:0cm; margin-bottom:.0001pt; text-indent:0cm; page-break-after:avoid; font-size:12.0pt; font-family:\"Times New Roman\",\"serif\";} h3 {mso-style-link:\"Título 3 Char\"; margin:0cm; margin-bottom:.0001pt; text-align:center; text-indent:0cm; page-break-after:avoid; font-size:12.0pt; font-family:\"Arial\",\"sans-serif\";} p.MsoHeader, li.MsoHeader, div.MsoHeader {mso-style-link:\"Cabeçalho Char\"; margin:0cm; margin-bottom:.0001pt; font-size:10.0pt; font-family:\"Times New Roman\",\"serif\";} p.MsoFooter, li.MsoFooter, div.MsoFooter {mso-style-link:\"Rodapé Char\"; margin:0cm; margin-bottom:.0001pt; font-size:10.0pt; font-family:\"Times New Roman\",\"serif\";} p.MsoList, li.MsoList, div.MsoList {margin-top:0cm; margin-right:-.05pt; margin-bottom:0cm; margin-left:0cm; margin-bottom:.0001pt; text-align:justify; font-size:12.0pt; font-family:\"Arial\",\"sans-serif\"; font-weight:bold;} p.MsoTitle, li.MsoTitle, div.MsoTitle {mso-style-link:\"Título Char\"; margin-top:12.0pt; margin-right:0cm; margin-bottom:6.0pt; margin-left:0cm; page-break-after:avoid; font-size:14.0pt; font-family:\"Arial\",\"sans-serif\";} p.MsoBodyText, li.MsoBodyText, div.MsoBodyText {mso-style-link:\"Corpo de texto Char\"; margin-top:0cm; margin-right:-.05pt; margin-bottom:0cm; margin-left:0cm; margin-bottom:.0001pt; text-align:justify; font-size:12.0pt; font-family:\"Arial\",\"sans-serif\"; font-weight:bold;} p.MsoSubtitle, li.MsoSubtitle, div.MsoSubtitle {mso-style-link:\"Subtítulo Char\"; margin-top:12.0pt; margin-right:0cm; margin-bottom:6.0pt; margin-left:0cm; text-align:center; page-break-after:avoid; font-size:14.0pt; font-family:\"Arial\",\"sans-serif\"; font-style:italic;} p.MsoAcetate, li.MsoAcetate, div.MsoAcetate {mso-style-link:\"Texto de balão Char\"; margin:0cm; margin-bottom:.0001pt; font-size:8.0pt; font-family:\"Tahoma\",\"sans-serif\";} span.Ttulo1Char {mso-style-name:\"Título 1 Char\"; mso-style-link:\"Título 1\"; font-family:\"Cambria\",\"serif\"; font-weight:bold;} span.Ttulo2Char {mso-style-name:\"Título 2 Char\"; mso-style-link:\"Título 2\"; font-family:\"Cambria\",\"serif\"; font-weight:bold; font-style:italic;} span.Ttulo3Char {mso-style-name:\"Título 3 Char\"; mso-style-link:\"Título 3\"; font-family:\"Cambria\",\"serif\"; font-weight:bold;} span.Absatz-Standardschriftart {mso-style-name:Absatz-Standardschriftart;} span.WW-Absatz-Standardschriftart {mso-style-name:WW-Absatz-Standardschriftart;} span.WW8Num2z0 {mso-style-name:WW8Num2z0; font-family:Symbol;} span.Fontepargpadro1 {mso-style-name:\"Fonte parág\\. padrão1\";} span.WW-Fontepargpadro {mso-style-name:\"WW-Fonte parág\\. padrão\";} span.WW8Num1z0 {mso-style-name:WW8Num1z0; font-family:Symbol;} span.WW8Num3z0 {mso-style-name:WW8Num3z0; font-family:Symbol;} span.WW8Num4z0 {mso-style-name:WW8Num4z0; font-family:Symbol;} span.WW8Num5z0 {mso-style-name:WW8Num5z0; font-family:Symbol;} span.WW8Num6z0 {mso-style-name:WW8Num6z0; font-family:Symbol;} span.WW8Num7z0 {mso-style-name:WW8Num7z0; font-family:Symbol;} span.WW8Num8z0 {mso-style-name:WW8Num8z0; font-family:Symbol;} span.WW8Num9z0 {mso-style-name:WW8Num9z0; font-family:Symbol;} span.WW8Num10z0 {mso-style-name:WW8Num10z0; font-family:Symbol;} span.WW8Num11z0 {mso-style-name:WW8Num11z0; font-family:Wingdings;} span.WW8Num12z0 {mso-style-name:WW8Num12z0; font-family:Symbol;} span.WW8Num13z0 {mso-style-name:WW8Num13z0; font-family:Symbol;} span.WW-Fontepargpadro1 {mso-style-name:\"WW-Fonte parág\\. padrão1\";} p.Captulo, li.Captulo, div.Captulo {mso-style-name:Capítulo; margin-top:12.0pt; margin-right:0cm; margin-bottom:6.0pt; margin-left:0cm; page-break-after:avoid; font-size:14.0pt; font-family:\"Arial\",\"sans-serif\";} span.CorpodetextoChar {mso-style-name:\"Corpo de texto Char\"; mso-style-link:\"Corpo de texto\";} p.Legenda1, li.Legenda1, div.Legenda1 {mso-style-name:Legenda1; margin-top:6.0pt; margin-right:0cm; margin-bottom:6.0pt; margin-left:0cm; font-size:12.0pt; font-family:\"Times New Roman\",\"serif\"; font-style:italic;} p.ndice, li.ndice, div.ndice {mso-style-name:Índice; margin:0cm; margin-bottom:.0001pt; font-size:10.0pt; font-family:\"Times New Roman\",\"serif\";} span.TtuloChar {mso-style-name:\"Título Char\"; mso-style-link:Título; font-family:\"Cambria\",\"serif\"; font-weight:bold;} span.SubttuloChar {mso-style-name:\"Subtítulo Char\"; mso-style-link:Subtítulo; font-family:\"Cambria\",\"serif\";} span.CabealhoChar {mso-style-name:\"Cabeçalho Char\"; mso-style-link:Cabeçalho;} span.RodapChar {mso-style-name:\"Rodapé Char\"; mso-style-link:Rodapé;} p.Corpodetexto21, li.Corpodetexto21, div.Corpodetexto21 {mso-style-name:\"Corpo de texto 21\"; margin-top:0cm; margin-right:45.0pt; margin-bottom:0cm; margin-left:0cm; margin-bottom:.0001pt; text-align:justify; font-size:12.0pt; font-family:\"Arial\",\"sans-serif\"; font-weight:bold;} p.WW-Ttulo, li.WW-Ttulo, div.WW-Ttulo {mso-style-name:WW-Título; margin:0cm; margin-bottom:.0001pt; text-align:center; font-size:12.0pt; font-family:\"Arial\",\"sans-serif\"; font-weight:bold;} p.Corpodetexto31, li.Corpodetexto31, div.Corpodetexto31 {mso-style-name:\"Corpo de texto 31\"; margin-top:0cm; margin-right:14.15pt; margin-bottom:0cm; margin-left:0cm; margin-bottom:.0001pt; text-align:justify; font-size:12.0pt; font-family:\"Arial\",\"sans-serif\"; font-weight:bold;} span.TextodebaloChar {mso-style-name:\"Texto de balão Char\"; mso-style-link:\"Texto de balão\"; font-family:\"Tahoma\",\"sans-serif\";} /* Page Definitions */ @page WordSection1 {size:8.0cm 841.85pt; margin:0cm 0cm 0cm 0cm;} div.WordSection1 {page:WordSection1;} /* List Definitions */ ol {margin-bottom:0cm;} ul {margin-bottom:0cm;} --> </style> <div class=\"WordSection1\"> <p align=\"center\" class=\"MsoNormal\" style=\"text-align:center;line-height:8.5pt\"> <b> <span style='font-size:7.0pt;font-family:\"Arial\",\"sans-serif\";color:black'> DESPACHO DO SECRETÁRIO </span> </b> </p> <p align=\"center\" class=\"MsoNormal\" style=\"text-align:center;line-height:8.5pt\"> <b> <span style='font-size:7.0pt;font-family:\"Arial\",\"sans-serif\";color:black'> EXPEDIENTE DE 26 / 07 / 2012 </span> </b> </p> <p class=\"MsoNormal\" style=\"line-height:8.5pt\"> <span style='font-size:7.0pt; font-family:\"Arial\",\"sans-serif\"'> </span> </p> <p class=\"MsoBodyText\" style=\"margin-right:0cm;line-height:8.5pt\"> <span style=\"font-size:7.0pt;color:black\"> 16/001.083/10 - Conforme informação da fiscalização às fls. 1.038, autorizo início a partir de 23/07/12 dos Projetos para o Complexo dos Coqueiros, referente ao contrato n.º 034/2012 a cargo da empresa Concremat Engenharia e Tecnologia </span> <span style=\"font-size:7.0pt; color:black\"> Ltda </span> <span style=\"font-size:7.0pt;color:black\"> . </span> </p> </div> </div> <!-- final da div q arruma a materia--> </td> </tr> <tr> <td> </td> </tr> <tr> <td> <i> <sup> * </sup> Este texto não substitui o publicado no Diário Oficial </i> </td> </tr> <tr> <td> </td> </tr> </tbody> </table> </td> </tr> <tr> <td> <hr/> <a href=\"#\" onclick=\"javascript:Imprimir_materia(12906, 1827)\"> <img border=\"0\" height=\"25px\" hspace=\"5\" src=\"../../images/impressora01.gif\" width=\"25px\"/> <font class=\"d_rtf\"> Imprimir </font> </a> </td> </tr> <tr> <td> </td> </tr> <tr> <td> </td> </tr> <!--<tr> <td> <table border=\"0\" align=\"center\" width=\"100%\"> <tr> <td align=\"right\"><a style=\"cursor:hand;\" onclick=\"self.print()\"><img src=\"images/btn_imprimir\" width=\"79\" height=\"24\" border=\"0\" alt=\"clique para imprimir\"></a></td> </tr> </table> </td> </tr>--> </tbody> \n",
      "\n",
      "8 \n",
      " <tr> <td> <table align=\"center\" width=\"50%\"> <tbody> <tr> <td align=\"center\" colspan=\"3\" style=\"padding-left:15px;padding-top:10px;\"> <a href=\"../../\" target=\"_top\"> <img border=\"0\" src=\"../../images/logo.jpg\"/> </a> </td> <!--td style=\"padding-left:205px;\" width=\"48%\"> <b><font face=\"Verdana\" size=\"2\" color=\"#738197\"></font></b> </td> <td align=\"right\" style=\"padding-right:15px;\"> <img src=\"images/logo_governo.gif\" border=\"0\"> </td!--> </tr> </tbody> </table> <table width=\"100%\"> <tbody> <tr> <td valign=\"middle\"> <a href=\"#\" onclick=\"javascript:Imprimir_materia(12906, 1827)\"> <img border=\"0\" height=\"25px\" hspace=\"5\" src=\"../../images/impressora01.gif\" width=\"25px\"/> <font class=\"d_rtf\"> Imprimir </font> </a> <hr/> </td> </tr> </tbody> </table> <table align=\"left\" class=\"topo_materia\" width=\"30%\"> <tbody> <tr> <td colspan=\"2\"> </td> </tr> <tr> <td align=\"left\"> <b> Diário Oficial nº : </b> </td> <td style=\"padding-left:10px;\"> 90 </td> </tr> <tr valign=\"middle\"> <td align=\"left\"> <b> Data de publicação: </b> </td> <td> 27/07/2012 </td> </tr> <tr> <td align=\"left\"> <b> Matéria nº : </b> </td> <td style=\"padding-left:10px;\"> 12906 </td> </tr> <tr> <!--td align=\"center\" colspan=\"3\"><b></b></td>--> </tr> <tr> <td colspan=\"3\"> </td> </tr> </tbody> </table> </td> </tr> \n",
      "\n",
      "9 \n",
      " <td> <table align=\"center\" width=\"50%\"> <tbody> <tr> <td align=\"center\" colspan=\"3\" style=\"padding-left:15px;padding-top:10px;\"> <a href=\"../../\" target=\"_top\"> <img border=\"0\" src=\"../../images/logo.jpg\"/> </a> </td> <!--td style=\"padding-left:205px;\" width=\"48%\"> <b><font face=\"Verdana\" size=\"2\" color=\"#738197\"></font></b> </td> <td align=\"right\" style=\"padding-right:15px;\"> <img src=\"images/logo_governo.gif\" border=\"0\"> </td!--> </tr> </tbody> </table> <table width=\"100%\"> <tbody> <tr> <td valign=\"middle\"> <a href=\"#\" onclick=\"javascript:Imprimir_materia(12906, 1827)\"> <img border=\"0\" height=\"25px\" hspace=\"5\" src=\"../../images/impressora01.gif\" width=\"25px\"/> <font class=\"d_rtf\"> Imprimir </font> </a> <hr/> </td> </tr> </tbody> </table> <table align=\"left\" class=\"topo_materia\" width=\"30%\"> <tbody> <tr> <td colspan=\"2\"> </td> </tr> <tr> <td align=\"left\"> <b> Diário Oficial nº : </b> </td> <td style=\"padding-left:10px;\"> 90 </td> </tr> <tr valign=\"middle\"> <td align=\"left\"> <b> Data de publicação: </b> </td> <td> 27/07/2012 </td> </tr> <tr> <td align=\"left\"> <b> Matéria nº : </b> </td> <td style=\"padding-left:10px;\"> 12906 </td> </tr> <tr> <!--td align=\"center\" colspan=\"3\"><b></b></td>--> </tr> <tr> <td colspan=\"3\"> </td> </tr> </tbody> </table> </td> \n",
      "\n",
      "10 \n",
      " <table align=\"center\" width=\"50%\"> <tbody> <tr> <td align=\"center\" colspan=\"3\" style=\"padding-left:15px;padding-top:10px;\"> <a href=\"../../\" target=\"_top\"> <img border=\"0\" src=\"../../images/logo.jpg\"/> </a> </td> <!--td style=\"padding-left:205px;\" width=\"48%\"> <b><font face=\"Verdana\" size=\"2\" color=\"#738197\"></font></b> </td> <td align=\"right\" style=\"padding-right:15px;\"> <img src=\"images/logo_governo.gif\" border=\"0\"> </td!--> </tr> </tbody> </table> \n",
      "\n",
      "11 \n",
      " <tbody> <tr> <td align=\"center\" colspan=\"3\" style=\"padding-left:15px;padding-top:10px;\"> <a href=\"../../\" target=\"_top\"> <img border=\"0\" src=\"../../images/logo.jpg\"/> </a> </td> <!--td style=\"padding-left:205px;\" width=\"48%\"> <b><font face=\"Verdana\" size=\"2\" color=\"#738197\"></font></b> </td> <td align=\"right\" style=\"padding-right:15px;\"> <img src=\"images/logo_governo.gif\" border=\"0\"> </td!--> </tr> </tbody> \n",
      "\n",
      "12 \n",
      " <tr> <td align=\"center\" colspan=\"3\" style=\"padding-left:15px;padding-top:10px;\"> <a href=\"../../\" target=\"_top\"> <img border=\"0\" src=\"../../images/logo.jpg\"/> </a> </td> <!--td style=\"padding-left:205px;\" width=\"48%\"> <b><font face=\"Verdana\" size=\"2\" color=\"#738197\"></font></b> </td> <td align=\"right\" style=\"padding-right:15px;\"> <img src=\"images/logo_governo.gif\" border=\"0\"> </td!--> </tr> \n",
      "\n",
      "13 \n",
      " <td align=\"center\" colspan=\"3\" style=\"padding-left:15px;padding-top:10px;\"> <a href=\"../../\" target=\"_top\"> <img border=\"0\" src=\"../../images/logo.jpg\"/> </a> </td> \n",
      "\n",
      "14 \n",
      " <a href=\"../../\" target=\"_top\"> <img border=\"0\" src=\"../../images/logo.jpg\"/> </a> \n",
      "\n",
      "15 \n",
      " <img border=\"0\" src=\"../../images/logo.jpg\"/> \n",
      "\n",
      "16 \n",
      " <table width=\"100%\"> <tbody> <tr> <td valign=\"middle\"> <a href=\"#\" onclick=\"javascript:Imprimir_materia(12906, 1827)\"> <img border=\"0\" height=\"25px\" hspace=\"5\" src=\"../../images/impressora01.gif\" width=\"25px\"/> <font class=\"d_rtf\"> Imprimir </font> </a> <hr/> </td> </tr> </tbody> </table> \n",
      "\n",
      "17 \n",
      " <tbody> <tr> <td valign=\"middle\"> <a href=\"#\" onclick=\"javascript:Imprimir_materia(12906, 1827)\"> <img border=\"0\" height=\"25px\" hspace=\"5\" src=\"../../images/impressora01.gif\" width=\"25px\"/> <font class=\"d_rtf\"> Imprimir </font> </a> <hr/> </td> </tr> </tbody> \n",
      "\n",
      "18 \n",
      " <tr> <td valign=\"middle\"> <a href=\"#\" onclick=\"javascript:Imprimir_materia(12906, 1827)\"> <img border=\"0\" height=\"25px\" hspace=\"5\" src=\"../../images/impressora01.gif\" width=\"25px\"/> <font class=\"d_rtf\"> Imprimir </font> </a> <hr/> </td> </tr> \n",
      "\n",
      "19 \n",
      " <td valign=\"middle\"> <a href=\"#\" onclick=\"javascript:Imprimir_materia(12906, 1827)\"> <img border=\"0\" height=\"25px\" hspace=\"5\" src=\"../../images/impressora01.gif\" width=\"25px\"/> <font class=\"d_rtf\"> Imprimir </font> </a> <hr/> </td> \n",
      "\n",
      "20 \n",
      " <a href=\"#\" onclick=\"javascript:Imprimir_materia(12906, 1827)\"> <img border=\"0\" height=\"25px\" hspace=\"5\" src=\"../../images/impressora01.gif\" width=\"25px\"/> <font class=\"d_rtf\"> Imprimir </font> </a> \n",
      "\n",
      "21 \n",
      " <img border=\"0\" height=\"25px\" hspace=\"5\" src=\"../../images/impressora01.gif\" width=\"25px\"/> \n",
      "\n",
      "22 \n",
      " <font class=\"d_rtf\"> Imprimir </font> \n",
      "\n",
      "23 \n",
      " <hr/> \n",
      "\n",
      "24 \n",
      " <table align=\"left\" class=\"topo_materia\" width=\"30%\"> <tbody> <tr> <td colspan=\"2\"> </td> </tr> <tr> <td align=\"left\"> <b> Diário Oficial nº : </b> </td> <td style=\"padding-left:10px;\"> 90 </td> </tr> <tr valign=\"middle\"> <td align=\"left\"> <b> Data de publicação: </b> </td> <td> 27/07/2012 </td> </tr> <tr> <td align=\"left\"> <b> Matéria nº : </b> </td> <td style=\"padding-left:10px;\"> 12906 </td> </tr> <tr> <!--td align=\"center\" colspan=\"3\"><b></b></td>--> </tr> <tr> <td colspan=\"3\"> </td> </tr> </tbody> </table> \n",
      "\n",
      "25 \n",
      " <tbody> <tr> <td colspan=\"2\"> </td> </tr> <tr> <td align=\"left\"> <b> Diário Oficial nº : </b> </td> <td style=\"padding-left:10px;\"> 90 </td> </tr> <tr valign=\"middle\"> <td align=\"left\"> <b> Data de publicação: </b> </td> <td> 27/07/2012 </td> </tr> <tr> <td align=\"left\"> <b> Matéria nº : </b> </td> <td style=\"padding-left:10px;\"> 12906 </td> </tr> <tr> <!--td align=\"center\" colspan=\"3\"><b></b></td>--> </tr> <tr> <td colspan=\"3\"> </td> </tr> </tbody> \n",
      "\n",
      "26 \n",
      " <tr> <td colspan=\"2\"> </td> </tr> \n",
      "\n",
      "27 \n",
      " <td colspan=\"2\"> </td> \n",
      "\n",
      "28 \n",
      " <tr> <td align=\"left\"> <b> Diário Oficial nº : </b> </td> <td style=\"padding-left:10px;\"> 90 </td> </tr> \n",
      "\n",
      "29 \n",
      " <td align=\"left\"> <b> Diário Oficial nº : </b> </td> \n",
      "\n",
      "30 \n",
      " <b> Diário Oficial nº : </b> \n",
      "\n",
      "31 \n",
      " <td style=\"padding-left:10px;\"> 90 </td> \n",
      "\n",
      "32 \n",
      " <tr valign=\"middle\"> <td align=\"left\"> <b> Data de publicação: </b> </td> <td> 27/07/2012 </td> </tr> \n",
      "\n",
      "33 \n",
      " <td align=\"left\"> <b> Data de publicação: </b> </td> \n",
      "\n",
      "34 \n",
      " <b> Data de publicação: </b> \n",
      "\n",
      "35 \n",
      " <td> 27/07/2012 </td> \n",
      "\n",
      "36 \n",
      " <tr> <td align=\"left\"> <b> Matéria nº : </b> </td> <td style=\"padding-left:10px;\"> 12906 </td> </tr> \n",
      "\n",
      "37 \n",
      " <td align=\"left\"> <b> Matéria nº : </b> </td> \n",
      "\n",
      "38 \n",
      " <b> Matéria nº : </b> \n",
      "\n",
      "39 \n",
      " <td style=\"padding-left:10px;\"> 12906 </td> \n",
      "\n",
      "40 \n",
      " <tr> <!--td align=\"center\" colspan=\"3\"><b></b></td>--> </tr> \n",
      "\n",
      "41 \n",
      " <tr> <td colspan=\"3\"> </td> </tr> \n",
      "\n",
      "42 \n",
      " <td colspan=\"3\"> </td> \n",
      "\n",
      "43 \n",
      " <tr> <td> <table border=\"0\" cellpadding=\"0\" cellspacing=\"0\" style=\"padding-left:40px;\" width=\"95%\"> <tbody> <tr> <td> <style> #pagina { font-size: px; width:0.00cm; width: 9.4cm; color:#000000; } td { font-size: px; } </style> <div id=\"pagina\"> <meta content=\"text/html; charset=utf-8\" http-equiv=\"Content-Type\"/> <meta content=\"Microsoft Word 14 (filtered)\" name=\"Generator\"/> <title> SECRETARIA MUNICIPAL DE HABITAÇÃO </title> <style> <!-- /* Font Definitions */ @font-face {font-family:Wingdings; panose-1:5 0 0 0 0 0 0 0 0 0;} @font-face {font-family:\"MS Mincho\"; panose-1:2 2 6 9 4 2 5 8 3 4;} @font-face {font-family:\"MS Mincho\"; panose-1:2 2 6 9 4 2 5 8 3 4;} @font-face {font-family:Tahoma; panose-1:2 11 6 4 3 5 4 4 2 4;} @font-face {font-family:\"\\@MS Mincho\"; panose-1:2 2 6 9 4 2 5 8 3 4;} /* Style Definitions */ p.MsoNormal, li.MsoNormal, div.MsoNormal {margin:0cm; margin-bottom:.0001pt; font-size:10.0pt; font-family:\"Times New Roman\",\"serif\";} h1 {mso-style-link:\"Título 1 Char\"; margin:0cm; margin-bottom:.0001pt; text-indent:0cm; page-break-after:avoid; font-size:12.0pt; font-family:\"Arial\",\"sans-serif\";} h2 {mso-style-link:\"Título 2 Char\"; margin:0cm; margin-bottom:.0001pt; text-indent:0cm; page-break-after:avoid; font-size:12.0pt; font-family:\"Times New Roman\",\"serif\";} h3 {mso-style-link:\"Título 3 Char\"; margin:0cm; margin-bottom:.0001pt; text-align:center; text-indent:0cm; page-break-after:avoid; font-size:12.0pt; font-family:\"Arial\",\"sans-serif\";} p.MsoHeader, li.MsoHeader, div.MsoHeader {mso-style-link:\"Cabeçalho Char\"; margin:0cm; margin-bottom:.0001pt; font-size:10.0pt; font-family:\"Times New Roman\",\"serif\";} p.MsoFooter, li.MsoFooter, div.MsoFooter {mso-style-link:\"Rodapé Char\"; margin:0cm; margin-bottom:.0001pt; font-size:10.0pt; font-family:\"Times New Roman\",\"serif\";} p.MsoList, li.MsoList, div.MsoList {margin-top:0cm; margin-right:-.05pt; margin-bottom:0cm; margin-left:0cm; margin-bottom:.0001pt; text-align:justify; font-size:12.0pt; font-family:\"Arial\",\"sans-serif\"; font-weight:bold;} p.MsoTitle, li.MsoTitle, div.MsoTitle {mso-style-link:\"Título Char\"; margin-top:12.0pt; margin-right:0cm; margin-bottom:6.0pt; margin-left:0cm; page-break-after:avoid; font-size:14.0pt; font-family:\"Arial\",\"sans-serif\";} p.MsoBodyText, li.MsoBodyText, div.MsoBodyText {mso-style-link:\"Corpo de texto Char\"; margin-top:0cm; margin-right:-.05pt; margin-bottom:0cm; margin-left:0cm; margin-bottom:.0001pt; text-align:justify; font-size:12.0pt; font-family:\"Arial\",\"sans-serif\"; font-weight:bold;} p.MsoSubtitle, li.MsoSubtitle, div.MsoSubtitle {mso-style-link:\"Subtítulo Char\"; margin-top:12.0pt; margin-right:0cm; margin-bottom:6.0pt; margin-left:0cm; text-align:center; page-break-after:avoid; font-size:14.0pt; font-family:\"Arial\",\"sans-serif\"; font-style:italic;} p.MsoAcetate, li.MsoAcetate, div.MsoAcetate {mso-style-link:\"Texto de balão Char\"; margin:0cm; margin-bottom:.0001pt; font-size:8.0pt; font-family:\"Tahoma\",\"sans-serif\";} span.Ttulo1Char {mso-style-name:\"Título 1 Char\"; mso-style-link:\"Título 1\"; font-family:\"Cambria\",\"serif\"; font-weight:bold;} span.Ttulo2Char {mso-style-name:\"Título 2 Char\"; mso-style-link:\"Título 2\"; font-family:\"Cambria\",\"serif\"; font-weight:bold; font-style:italic;} span.Ttulo3Char {mso-style-name:\"Título 3 Char\"; mso-style-link:\"Título 3\"; font-family:\"Cambria\",\"serif\"; font-weight:bold;} span.Absatz-Standardschriftart {mso-style-name:Absatz-Standardschriftart;} span.WW-Absatz-Standardschriftart {mso-style-name:WW-Absatz-Standardschriftart;} span.WW8Num2z0 {mso-style-name:WW8Num2z0; font-family:Symbol;} span.Fontepargpadro1 {mso-style-name:\"Fonte parág\\. padrão1\";} span.WW-Fontepargpadro {mso-style-name:\"WW-Fonte parág\\. padrão\";} span.WW8Num1z0 {mso-style-name:WW8Num1z0; font-family:Symbol;} span.WW8Num3z0 {mso-style-name:WW8Num3z0; font-family:Symbol;} span.WW8Num4z0 {mso-style-name:WW8Num4z0; font-family:Symbol;} span.WW8Num5z0 {mso-style-name:WW8Num5z0; font-family:Symbol;} span.WW8Num6z0 {mso-style-name:WW8Num6z0; font-family:Symbol;} span.WW8Num7z0 {mso-style-name:WW8Num7z0; font-family:Symbol;} span.WW8Num8z0 {mso-style-name:WW8Num8z0; font-family:Symbol;} span.WW8Num9z0 {mso-style-name:WW8Num9z0; font-family:Symbol;} span.WW8Num10z0 {mso-style-name:WW8Num10z0; font-family:Symbol;} span.WW8Num11z0 {mso-style-name:WW8Num11z0; font-family:Wingdings;} span.WW8Num12z0 {mso-style-name:WW8Num12z0; font-family:Symbol;} span.WW8Num13z0 {mso-style-name:WW8Num13z0; font-family:Symbol;} span.WW-Fontepargpadro1 {mso-style-name:\"WW-Fonte parág\\. padrão1\";} p.Captulo, li.Captulo, div.Captulo {mso-style-name:Capítulo; margin-top:12.0pt; margin-right:0cm; margin-bottom:6.0pt; margin-left:0cm; page-break-after:avoid; font-size:14.0pt; font-family:\"Arial\",\"sans-serif\";} span.CorpodetextoChar {mso-style-name:\"Corpo de texto Char\"; mso-style-link:\"Corpo de texto\";} p.Legenda1, li.Legenda1, div.Legenda1 {mso-style-name:Legenda1; margin-top:6.0pt; margin-right:0cm; margin-bottom:6.0pt; margin-left:0cm; font-size:12.0pt; font-family:\"Times New Roman\",\"serif\"; font-style:italic;} p.ndice, li.ndice, div.ndice {mso-style-name:Índice; margin:0cm; margin-bottom:.0001pt; font-size:10.0pt; font-family:\"Times New Roman\",\"serif\";} span.TtuloChar {mso-style-name:\"Título Char\"; mso-style-link:Título; font-family:\"Cambria\",\"serif\"; font-weight:bold;} span.SubttuloChar {mso-style-name:\"Subtítulo Char\"; mso-style-link:Subtítulo; font-family:\"Cambria\",\"serif\";} span.CabealhoChar {mso-style-name:\"Cabeçalho Char\"; mso-style-link:Cabeçalho;} span.RodapChar {mso-style-name:\"Rodapé Char\"; mso-style-link:Rodapé;} p.Corpodetexto21, li.Corpodetexto21, div.Corpodetexto21 {mso-style-name:\"Corpo de texto 21\"; margin-top:0cm; margin-right:45.0pt; margin-bottom:0cm; margin-left:0cm; margin-bottom:.0001pt; text-align:justify; font-size:12.0pt; font-family:\"Arial\",\"sans-serif\"; font-weight:bold;} p.WW-Ttulo, li.WW-Ttulo, div.WW-Ttulo {mso-style-name:WW-Título; margin:0cm; margin-bottom:.0001pt; text-align:center; font-size:12.0pt; font-family:\"Arial\",\"sans-serif\"; font-weight:bold;} p.Corpodetexto31, li.Corpodetexto31, div.Corpodetexto31 {mso-style-name:\"Corpo de texto 31\"; margin-top:0cm; margin-right:14.15pt; margin-bottom:0cm; margin-left:0cm; margin-bottom:.0001pt; text-align:justify; font-size:12.0pt; font-family:\"Arial\",\"sans-serif\"; font-weight:bold;} span.TextodebaloChar {mso-style-name:\"Texto de balão Char\"; mso-style-link:\"Texto de balão\"; font-family:\"Tahoma\",\"sans-serif\";} /* Page Definitions */ @page WordSection1 {size:8.0cm 841.85pt; margin:0cm 0cm 0cm 0cm;} div.WordSection1 {page:WordSection1;} /* List Definitions */ ol {margin-bottom:0cm;} ul {margin-bottom:0cm;} --> </style> <div class=\"WordSection1\"> <p align=\"center\" class=\"MsoNormal\" style=\"text-align:center;line-height:8.5pt\"> <b> <span style='font-size:7.0pt;font-family:\"Arial\",\"sans-serif\";color:black'> DESPACHO DO SECRETÁRIO </span> </b> </p> <p align=\"center\" class=\"MsoNormal\" style=\"text-align:center;line-height:8.5pt\"> <b> <span style='font-size:7.0pt;font-family:\"Arial\",\"sans-serif\";color:black'> EXPEDIENTE DE 26 / 07 / 2012 </span> </b> </p> <p class=\"MsoNormal\" style=\"line-height:8.5pt\"> <span style='font-size:7.0pt; font-family:\"Arial\",\"sans-serif\"'> </span> </p> <p class=\"MsoBodyText\" style=\"margin-right:0cm;line-height:8.5pt\"> <span style=\"font-size:7.0pt;color:black\"> 16/001.083/10 - Conforme informação da fiscalização às fls. 1.038, autorizo início a partir de 23/07/12 dos Projetos para o Complexo dos Coqueiros, referente ao contrato n.º 034/2012 a cargo da empresa Concremat Engenharia e Tecnologia </span> <span style=\"font-size:7.0pt; color:black\"> Ltda </span> <span style=\"font-size:7.0pt;color:black\"> . </span> </p> </div> </div> <!-- final da div q arruma a materia--> </td> </tr> <tr> <td> </td> </tr> <tr> <td> <i> <sup> * </sup> Este texto não substitui o publicado no Diário Oficial </i> </td> </tr> <tr> <td> </td> </tr> </tbody> </table> </td> </tr> \n",
      "\n",
      "44 \n",
      " <td> <table border=\"0\" cellpadding=\"0\" cellspacing=\"0\" style=\"padding-left:40px;\" width=\"95%\"> <tbody> <tr> <td> <style> #pagina { font-size: px; width:0.00cm; width: 9.4cm; color:#000000; } td { font-size: px; } </style> <div id=\"pagina\"> <meta content=\"text/html; charset=utf-8\" http-equiv=\"Content-Type\"/> <meta content=\"Microsoft Word 14 (filtered)\" name=\"Generator\"/> <title> SECRETARIA MUNICIPAL DE HABITAÇÃO </title> <style> <!-- /* Font Definitions */ @font-face {font-family:Wingdings; panose-1:5 0 0 0 0 0 0 0 0 0;} @font-face {font-family:\"MS Mincho\"; panose-1:2 2 6 9 4 2 5 8 3 4;} @font-face {font-family:\"MS Mincho\"; panose-1:2 2 6 9 4 2 5 8 3 4;} @font-face {font-family:Tahoma; panose-1:2 11 6 4 3 5 4 4 2 4;} @font-face {font-family:\"\\@MS Mincho\"; panose-1:2 2 6 9 4 2 5 8 3 4;} /* Style Definitions */ p.MsoNormal, li.MsoNormal, div.MsoNormal {margin:0cm; margin-bottom:.0001pt; font-size:10.0pt; font-family:\"Times New Roman\",\"serif\";} h1 {mso-style-link:\"Título 1 Char\"; margin:0cm; margin-bottom:.0001pt; text-indent:0cm; page-break-after:avoid; font-size:12.0pt; font-family:\"Arial\",\"sans-serif\";} h2 {mso-style-link:\"Título 2 Char\"; margin:0cm; margin-bottom:.0001pt; text-indent:0cm; page-break-after:avoid; font-size:12.0pt; font-family:\"Times New Roman\",\"serif\";} h3 {mso-style-link:\"Título 3 Char\"; margin:0cm; margin-bottom:.0001pt; text-align:center; text-indent:0cm; page-break-after:avoid; font-size:12.0pt; font-family:\"Arial\",\"sans-serif\";} p.MsoHeader, li.MsoHeader, div.MsoHeader {mso-style-link:\"Cabeçalho Char\"; margin:0cm; margin-bottom:.0001pt; font-size:10.0pt; font-family:\"Times New Roman\",\"serif\";} p.MsoFooter, li.MsoFooter, div.MsoFooter {mso-style-link:\"Rodapé Char\"; margin:0cm; margin-bottom:.0001pt; font-size:10.0pt; font-family:\"Times New Roman\",\"serif\";} p.MsoList, li.MsoList, div.MsoList {margin-top:0cm; margin-right:-.05pt; margin-bottom:0cm; margin-left:0cm; margin-bottom:.0001pt; text-align:justify; font-size:12.0pt; font-family:\"Arial\",\"sans-serif\"; font-weight:bold;} p.MsoTitle, li.MsoTitle, div.MsoTitle {mso-style-link:\"Título Char\"; margin-top:12.0pt; margin-right:0cm; margin-bottom:6.0pt; margin-left:0cm; page-break-after:avoid; font-size:14.0pt; font-family:\"Arial\",\"sans-serif\";} p.MsoBodyText, li.MsoBodyText, div.MsoBodyText {mso-style-link:\"Corpo de texto Char\"; margin-top:0cm; margin-right:-.05pt; margin-bottom:0cm; margin-left:0cm; margin-bottom:.0001pt; text-align:justify; font-size:12.0pt; font-family:\"Arial\",\"sans-serif\"; font-weight:bold;} p.MsoSubtitle, li.MsoSubtitle, div.MsoSubtitle {mso-style-link:\"Subtítulo Char\"; margin-top:12.0pt; margin-right:0cm; margin-bottom:6.0pt; margin-left:0cm; text-align:center; page-break-after:avoid; font-size:14.0pt; font-family:\"Arial\",\"sans-serif\"; font-style:italic;} p.MsoAcetate, li.MsoAcetate, div.MsoAcetate {mso-style-link:\"Texto de balão Char\"; margin:0cm; margin-bottom:.0001pt; font-size:8.0pt; font-family:\"Tahoma\",\"sans-serif\";} span.Ttulo1Char {mso-style-name:\"Título 1 Char\"; mso-style-link:\"Título 1\"; font-family:\"Cambria\",\"serif\"; font-weight:bold;} span.Ttulo2Char {mso-style-name:\"Título 2 Char\"; mso-style-link:\"Título 2\"; font-family:\"Cambria\",\"serif\"; font-weight:bold; font-style:italic;} span.Ttulo3Char {mso-style-name:\"Título 3 Char\"; mso-style-link:\"Título 3\"; font-family:\"Cambria\",\"serif\"; font-weight:bold;} span.Absatz-Standardschriftart {mso-style-name:Absatz-Standardschriftart;} span.WW-Absatz-Standardschriftart {mso-style-name:WW-Absatz-Standardschriftart;} span.WW8Num2z0 {mso-style-name:WW8Num2z0; font-family:Symbol;} span.Fontepargpadro1 {mso-style-name:\"Fonte parág\\. padrão1\";} span.WW-Fontepargpadro {mso-style-name:\"WW-Fonte parág\\. padrão\";} span.WW8Num1z0 {mso-style-name:WW8Num1z0; font-family:Symbol;} span.WW8Num3z0 {mso-style-name:WW8Num3z0; font-family:Symbol;} span.WW8Num4z0 {mso-style-name:WW8Num4z0; font-family:Symbol;} span.WW8Num5z0 {mso-style-name:WW8Num5z0; font-family:Symbol;} span.WW8Num6z0 {mso-style-name:WW8Num6z0; font-family:Symbol;} span.WW8Num7z0 {mso-style-name:WW8Num7z0; font-family:Symbol;} span.WW8Num8z0 {mso-style-name:WW8Num8z0; font-family:Symbol;} span.WW8Num9z0 {mso-style-name:WW8Num9z0; font-family:Symbol;} span.WW8Num10z0 {mso-style-name:WW8Num10z0; font-family:Symbol;} span.WW8Num11z0 {mso-style-name:WW8Num11z0; font-family:Wingdings;} span.WW8Num12z0 {mso-style-name:WW8Num12z0; font-family:Symbol;} span.WW8Num13z0 {mso-style-name:WW8Num13z0; font-family:Symbol;} span.WW-Fontepargpadro1 {mso-style-name:\"WW-Fonte parág\\. padrão1\";} p.Captulo, li.Captulo, div.Captulo {mso-style-name:Capítulo; margin-top:12.0pt; margin-right:0cm; margin-bottom:6.0pt; margin-left:0cm; page-break-after:avoid; font-size:14.0pt; font-family:\"Arial\",\"sans-serif\";} span.CorpodetextoChar {mso-style-name:\"Corpo de texto Char\"; mso-style-link:\"Corpo de texto\";} p.Legenda1, li.Legenda1, div.Legenda1 {mso-style-name:Legenda1; margin-top:6.0pt; margin-right:0cm; margin-bottom:6.0pt; margin-left:0cm; font-size:12.0pt; font-family:\"Times New Roman\",\"serif\"; font-style:italic;} p.ndice, li.ndice, div.ndice {mso-style-name:Índice; margin:0cm; margin-bottom:.0001pt; font-size:10.0pt; font-family:\"Times New Roman\",\"serif\";} span.TtuloChar {mso-style-name:\"Título Char\"; mso-style-link:Título; font-family:\"Cambria\",\"serif\"; font-weight:bold;} span.SubttuloChar {mso-style-name:\"Subtítulo Char\"; mso-style-link:Subtítulo; font-family:\"Cambria\",\"serif\";} span.CabealhoChar {mso-style-name:\"Cabeçalho Char\"; mso-style-link:Cabeçalho;} span.RodapChar {mso-style-name:\"Rodapé Char\"; mso-style-link:Rodapé;} p.Corpodetexto21, li.Corpodetexto21, div.Corpodetexto21 {mso-style-name:\"Corpo de texto 21\"; margin-top:0cm; margin-right:45.0pt; margin-bottom:0cm; margin-left:0cm; margin-bottom:.0001pt; text-align:justify; font-size:12.0pt; font-family:\"Arial\",\"sans-serif\"; font-weight:bold;} p.WW-Ttulo, li.WW-Ttulo, div.WW-Ttulo {mso-style-name:WW-Título; margin:0cm; margin-bottom:.0001pt; text-align:center; font-size:12.0pt; font-family:\"Arial\",\"sans-serif\"; font-weight:bold;} p.Corpodetexto31, li.Corpodetexto31, div.Corpodetexto31 {mso-style-name:\"Corpo de texto 31\"; margin-top:0cm; margin-right:14.15pt; margin-bottom:0cm; margin-left:0cm; margin-bottom:.0001pt; text-align:justify; font-size:12.0pt; font-family:\"Arial\",\"sans-serif\"; font-weight:bold;} span.TextodebaloChar {mso-style-name:\"Texto de balão Char\"; mso-style-link:\"Texto de balão\"; font-family:\"Tahoma\",\"sans-serif\";} /* Page Definitions */ @page WordSection1 {size:8.0cm 841.85pt; margin:0cm 0cm 0cm 0cm;} div.WordSection1 {page:WordSection1;} /* List Definitions */ ol {margin-bottom:0cm;} ul {margin-bottom:0cm;} --> </style> <div class=\"WordSection1\"> <p align=\"center\" class=\"MsoNormal\" style=\"text-align:center;line-height:8.5pt\"> <b> <span style='font-size:7.0pt;font-family:\"Arial\",\"sans-serif\";color:black'> DESPACHO DO SECRETÁRIO </span> </b> </p> <p align=\"center\" class=\"MsoNormal\" style=\"text-align:center;line-height:8.5pt\"> <b> <span style='font-size:7.0pt;font-family:\"Arial\",\"sans-serif\";color:black'> EXPEDIENTE DE 26 / 07 / 2012 </span> </b> </p> <p class=\"MsoNormal\" style=\"line-height:8.5pt\"> <span style='font-size:7.0pt; font-family:\"Arial\",\"sans-serif\"'> </span> </p> <p class=\"MsoBodyText\" style=\"margin-right:0cm;line-height:8.5pt\"> <span style=\"font-size:7.0pt;color:black\"> 16/001.083/10 - Conforme informação da fiscalização às fls. 1.038, autorizo início a partir de 23/07/12 dos Projetos para o Complexo dos Coqueiros, referente ao contrato n.º 034/2012 a cargo da empresa Concremat Engenharia e Tecnologia </span> <span style=\"font-size:7.0pt; color:black\"> Ltda </span> <span style=\"font-size:7.0pt;color:black\"> . </span> </p> </div> </div> <!-- final da div q arruma a materia--> </td> </tr> <tr> <td> </td> </tr> <tr> <td> <i> <sup> * </sup> Este texto não substitui o publicado no Diário Oficial </i> </td> </tr> <tr> <td> </td> </tr> </tbody> </table> </td> \n",
      "\n",
      "45 \n",
      " <table border=\"0\" cellpadding=\"0\" cellspacing=\"0\" style=\"padding-left:40px;\" width=\"95%\"> <tbody> <tr> <td> <style> #pagina { font-size: px; width:0.00cm; width: 9.4cm; color:#000000; } td { font-size: px; } </style> <div id=\"pagina\"> <meta content=\"text/html; charset=utf-8\" http-equiv=\"Content-Type\"/> <meta content=\"Microsoft Word 14 (filtered)\" name=\"Generator\"/> <title> SECRETARIA MUNICIPAL DE HABITAÇÃO </title> <style> <!-- /* Font Definitions */ @font-face {font-family:Wingdings; panose-1:5 0 0 0 0 0 0 0 0 0;} @font-face {font-family:\"MS Mincho\"; panose-1:2 2 6 9 4 2 5 8 3 4;} @font-face {font-family:\"MS Mincho\"; panose-1:2 2 6 9 4 2 5 8 3 4;} @font-face {font-family:Tahoma; panose-1:2 11 6 4 3 5 4 4 2 4;} @font-face {font-family:\"\\@MS Mincho\"; panose-1:2 2 6 9 4 2 5 8 3 4;} /* Style Definitions */ p.MsoNormal, li.MsoNormal, div.MsoNormal {margin:0cm; margin-bottom:.0001pt; font-size:10.0pt; font-family:\"Times New Roman\",\"serif\";} h1 {mso-style-link:\"Título 1 Char\"; margin:0cm; margin-bottom:.0001pt; text-indent:0cm; page-break-after:avoid; font-size:12.0pt; font-family:\"Arial\",\"sans-serif\";} h2 {mso-style-link:\"Título 2 Char\"; margin:0cm; margin-bottom:.0001pt; text-indent:0cm; page-break-after:avoid; font-size:12.0pt; font-family:\"Times New Roman\",\"serif\";} h3 {mso-style-link:\"Título 3 Char\"; margin:0cm; margin-bottom:.0001pt; text-align:center; text-indent:0cm; page-break-after:avoid; font-size:12.0pt; font-family:\"Arial\",\"sans-serif\";} p.MsoHeader, li.MsoHeader, div.MsoHeader {mso-style-link:\"Cabeçalho Char\"; margin:0cm; margin-bottom:.0001pt; font-size:10.0pt; font-family:\"Times New Roman\",\"serif\";} p.MsoFooter, li.MsoFooter, div.MsoFooter {mso-style-link:\"Rodapé Char\"; margin:0cm; margin-bottom:.0001pt; font-size:10.0pt; font-family:\"Times New Roman\",\"serif\";} p.MsoList, li.MsoList, div.MsoList {margin-top:0cm; margin-right:-.05pt; margin-bottom:0cm; margin-left:0cm; margin-bottom:.0001pt; text-align:justify; font-size:12.0pt; font-family:\"Arial\",\"sans-serif\"; font-weight:bold;} p.MsoTitle, li.MsoTitle, div.MsoTitle {mso-style-link:\"Título Char\"; margin-top:12.0pt; margin-right:0cm; margin-bottom:6.0pt; margin-left:0cm; page-break-after:avoid; font-size:14.0pt; font-family:\"Arial\",\"sans-serif\";} p.MsoBodyText, li.MsoBodyText, div.MsoBodyText {mso-style-link:\"Corpo de texto Char\"; margin-top:0cm; margin-right:-.05pt; margin-bottom:0cm; margin-left:0cm; margin-bottom:.0001pt; text-align:justify; font-size:12.0pt; font-family:\"Arial\",\"sans-serif\"; font-weight:bold;} p.MsoSubtitle, li.MsoSubtitle, div.MsoSubtitle {mso-style-link:\"Subtítulo Char\"; margin-top:12.0pt; margin-right:0cm; margin-bottom:6.0pt; margin-left:0cm; text-align:center; page-break-after:avoid; font-size:14.0pt; font-family:\"Arial\",\"sans-serif\"; font-style:italic;} p.MsoAcetate, li.MsoAcetate, div.MsoAcetate {mso-style-link:\"Texto de balão Char\"; margin:0cm; margin-bottom:.0001pt; font-size:8.0pt; font-family:\"Tahoma\",\"sans-serif\";} span.Ttulo1Char {mso-style-name:\"Título 1 Char\"; mso-style-link:\"Título 1\"; font-family:\"Cambria\",\"serif\"; font-weight:bold;} span.Ttulo2Char {mso-style-name:\"Título 2 Char\"; mso-style-link:\"Título 2\"; font-family:\"Cambria\",\"serif\"; font-weight:bold; font-style:italic;} span.Ttulo3Char {mso-style-name:\"Título 3 Char\"; mso-style-link:\"Título 3\"; font-family:\"Cambria\",\"serif\"; font-weight:bold;} span.Absatz-Standardschriftart {mso-style-name:Absatz-Standardschriftart;} span.WW-Absatz-Standardschriftart {mso-style-name:WW-Absatz-Standardschriftart;} span.WW8Num2z0 {mso-style-name:WW8Num2z0; font-family:Symbol;} span.Fontepargpadro1 {mso-style-name:\"Fonte parág\\. padrão1\";} span.WW-Fontepargpadro {mso-style-name:\"WW-Fonte parág\\. padrão\";} span.WW8Num1z0 {mso-style-name:WW8Num1z0; font-family:Symbol;} span.WW8Num3z0 {mso-style-name:WW8Num3z0; font-family:Symbol;} span.WW8Num4z0 {mso-style-name:WW8Num4z0; font-family:Symbol;} span.WW8Num5z0 {mso-style-name:WW8Num5z0; font-family:Symbol;} span.WW8Num6z0 {mso-style-name:WW8Num6z0; font-family:Symbol;} span.WW8Num7z0 {mso-style-name:WW8Num7z0; font-family:Symbol;} span.WW8Num8z0 {mso-style-name:WW8Num8z0; font-family:Symbol;} span.WW8Num9z0 {mso-style-name:WW8Num9z0; font-family:Symbol;} span.WW8Num10z0 {mso-style-name:WW8Num10z0; font-family:Symbol;} span.WW8Num11z0 {mso-style-name:WW8Num11z0; font-family:Wingdings;} span.WW8Num12z0 {mso-style-name:WW8Num12z0; font-family:Symbol;} span.WW8Num13z0 {mso-style-name:WW8Num13z0; font-family:Symbol;} span.WW-Fontepargpadro1 {mso-style-name:\"WW-Fonte parág\\. padrão1\";} p.Captulo, li.Captulo, div.Captulo {mso-style-name:Capítulo; margin-top:12.0pt; margin-right:0cm; margin-bottom:6.0pt; margin-left:0cm; page-break-after:avoid; font-size:14.0pt; font-family:\"Arial\",\"sans-serif\";} span.CorpodetextoChar {mso-style-name:\"Corpo de texto Char\"; mso-style-link:\"Corpo de texto\";} p.Legenda1, li.Legenda1, div.Legenda1 {mso-style-name:Legenda1; margin-top:6.0pt; margin-right:0cm; margin-bottom:6.0pt; margin-left:0cm; font-size:12.0pt; font-family:\"Times New Roman\",\"serif\"; font-style:italic;} p.ndice, li.ndice, div.ndice {mso-style-name:Índice; margin:0cm; margin-bottom:.0001pt; font-size:10.0pt; font-family:\"Times New Roman\",\"serif\";} span.TtuloChar {mso-style-name:\"Título Char\"; mso-style-link:Título; font-family:\"Cambria\",\"serif\"; font-weight:bold;} span.SubttuloChar {mso-style-name:\"Subtítulo Char\"; mso-style-link:Subtítulo; font-family:\"Cambria\",\"serif\";} span.CabealhoChar {mso-style-name:\"Cabeçalho Char\"; mso-style-link:Cabeçalho;} span.RodapChar {mso-style-name:\"Rodapé Char\"; mso-style-link:Rodapé;} p.Corpodetexto21, li.Corpodetexto21, div.Corpodetexto21 {mso-style-name:\"Corpo de texto 21\"; margin-top:0cm; margin-right:45.0pt; margin-bottom:0cm; margin-left:0cm; margin-bottom:.0001pt; text-align:justify; font-size:12.0pt; font-family:\"Arial\",\"sans-serif\"; font-weight:bold;} p.WW-Ttulo, li.WW-Ttulo, div.WW-Ttulo {mso-style-name:WW-Título; margin:0cm; margin-bottom:.0001pt; text-align:center; font-size:12.0pt; font-family:\"Arial\",\"sans-serif\"; font-weight:bold;} p.Corpodetexto31, li.Corpodetexto31, div.Corpodetexto31 {mso-style-name:\"Corpo de texto 31\"; margin-top:0cm; margin-right:14.15pt; margin-bottom:0cm; margin-left:0cm; margin-bottom:.0001pt; text-align:justify; font-size:12.0pt; font-family:\"Arial\",\"sans-serif\"; font-weight:bold;} span.TextodebaloChar {mso-style-name:\"Texto de balão Char\"; mso-style-link:\"Texto de balão\"; font-family:\"Tahoma\",\"sans-serif\";} /* Page Definitions */ @page WordSection1 {size:8.0cm 841.85pt; margin:0cm 0cm 0cm 0cm;} div.WordSection1 {page:WordSection1;} /* List Definitions */ ol {margin-bottom:0cm;} ul {margin-bottom:0cm;} --> </style> <div class=\"WordSection1\"> <p align=\"center\" class=\"MsoNormal\" style=\"text-align:center;line-height:8.5pt\"> <b> <span style='font-size:7.0pt;font-family:\"Arial\",\"sans-serif\";color:black'> DESPACHO DO SECRETÁRIO </span> </b> </p> <p align=\"center\" class=\"MsoNormal\" style=\"text-align:center;line-height:8.5pt\"> <b> <span style='font-size:7.0pt;font-family:\"Arial\",\"sans-serif\";color:black'> EXPEDIENTE DE 26 / 07 / 2012 </span> </b> </p> <p class=\"MsoNormal\" style=\"line-height:8.5pt\"> <span style='font-size:7.0pt; font-family:\"Arial\",\"sans-serif\"'> </span> </p> <p class=\"MsoBodyText\" style=\"margin-right:0cm;line-height:8.5pt\"> <span style=\"font-size:7.0pt;color:black\"> 16/001.083/10 - Conforme informação da fiscalização às fls. 1.038, autorizo início a partir de 23/07/12 dos Projetos para o Complexo dos Coqueiros, referente ao contrato n.º 034/2012 a cargo da empresa Concremat Engenharia e Tecnologia </span> <span style=\"font-size:7.0pt; color:black\"> Ltda </span> <span style=\"font-size:7.0pt;color:black\"> . </span> </p> </div> </div> <!-- final da div q arruma a materia--> </td> </tr> <tr> <td> </td> </tr> <tr> <td> <i> <sup> * </sup> Este texto não substitui o publicado no Diário Oficial </i> </td> </tr> <tr> <td> </td> </tr> </tbody> </table> \n",
      "\n",
      "46 \n",
      " <tbody> <tr> <td> <style> #pagina { font-size: px; width:0.00cm; width: 9.4cm; color:#000000; } td { font-size: px; } </style> <div id=\"pagina\"> <meta content=\"text/html; charset=utf-8\" http-equiv=\"Content-Type\"/> <meta content=\"Microsoft Word 14 (filtered)\" name=\"Generator\"/> <title> SECRETARIA MUNICIPAL DE HABITAÇÃO </title> <style> <!-- /* Font Definitions */ @font-face {font-family:Wingdings; panose-1:5 0 0 0 0 0 0 0 0 0;} @font-face {font-family:\"MS Mincho\"; panose-1:2 2 6 9 4 2 5 8 3 4;} @font-face {font-family:\"MS Mincho\"; panose-1:2 2 6 9 4 2 5 8 3 4;} @font-face {font-family:Tahoma; panose-1:2 11 6 4 3 5 4 4 2 4;} @font-face {font-family:\"\\@MS Mincho\"; panose-1:2 2 6 9 4 2 5 8 3 4;} /* Style Definitions */ p.MsoNormal, li.MsoNormal, div.MsoNormal {margin:0cm; margin-bottom:.0001pt; font-size:10.0pt; font-family:\"Times New Roman\",\"serif\";} h1 {mso-style-link:\"Título 1 Char\"; margin:0cm; margin-bottom:.0001pt; text-indent:0cm; page-break-after:avoid; font-size:12.0pt; font-family:\"Arial\",\"sans-serif\";} h2 {mso-style-link:\"Título 2 Char\"; margin:0cm; margin-bottom:.0001pt; text-indent:0cm; page-break-after:avoid; font-size:12.0pt; font-family:\"Times New Roman\",\"serif\";} h3 {mso-style-link:\"Título 3 Char\"; margin:0cm; margin-bottom:.0001pt; text-align:center; text-indent:0cm; page-break-after:avoid; font-size:12.0pt; font-family:\"Arial\",\"sans-serif\";} p.MsoHeader, li.MsoHeader, div.MsoHeader {mso-style-link:\"Cabeçalho Char\"; margin:0cm; margin-bottom:.0001pt; font-size:10.0pt; font-family:\"Times New Roman\",\"serif\";} p.MsoFooter, li.MsoFooter, div.MsoFooter {mso-style-link:\"Rodapé Char\"; margin:0cm; margin-bottom:.0001pt; font-size:10.0pt; font-family:\"Times New Roman\",\"serif\";} p.MsoList, li.MsoList, div.MsoList {margin-top:0cm; margin-right:-.05pt; margin-bottom:0cm; margin-left:0cm; margin-bottom:.0001pt; text-align:justify; font-size:12.0pt; font-family:\"Arial\",\"sans-serif\"; font-weight:bold;} p.MsoTitle, li.MsoTitle, div.MsoTitle {mso-style-link:\"Título Char\"; margin-top:12.0pt; margin-right:0cm; margin-bottom:6.0pt; margin-left:0cm; page-break-after:avoid; font-size:14.0pt; font-family:\"Arial\",\"sans-serif\";} p.MsoBodyText, li.MsoBodyText, div.MsoBodyText {mso-style-link:\"Corpo de texto Char\"; margin-top:0cm; margin-right:-.05pt; margin-bottom:0cm; margin-left:0cm; margin-bottom:.0001pt; text-align:justify; font-size:12.0pt; font-family:\"Arial\",\"sans-serif\"; font-weight:bold;} p.MsoSubtitle, li.MsoSubtitle, div.MsoSubtitle {mso-style-link:\"Subtítulo Char\"; margin-top:12.0pt; margin-right:0cm; margin-bottom:6.0pt; margin-left:0cm; text-align:center; page-break-after:avoid; font-size:14.0pt; font-family:\"Arial\",\"sans-serif\"; font-style:italic;} p.MsoAcetate, li.MsoAcetate, div.MsoAcetate {mso-style-link:\"Texto de balão Char\"; margin:0cm; margin-bottom:.0001pt; font-size:8.0pt; font-family:\"Tahoma\",\"sans-serif\";} span.Ttulo1Char {mso-style-name:\"Título 1 Char\"; mso-style-link:\"Título 1\"; font-family:\"Cambria\",\"serif\"; font-weight:bold;} span.Ttulo2Char {mso-style-name:\"Título 2 Char\"; mso-style-link:\"Título 2\"; font-family:\"Cambria\",\"serif\"; font-weight:bold; font-style:italic;} span.Ttulo3Char {mso-style-name:\"Título 3 Char\"; mso-style-link:\"Título 3\"; font-family:\"Cambria\",\"serif\"; font-weight:bold;} span.Absatz-Standardschriftart {mso-style-name:Absatz-Standardschriftart;} span.WW-Absatz-Standardschriftart {mso-style-name:WW-Absatz-Standardschriftart;} span.WW8Num2z0 {mso-style-name:WW8Num2z0; font-family:Symbol;} span.Fontepargpadro1 {mso-style-name:\"Fonte parág\\. padrão1\";} span.WW-Fontepargpadro {mso-style-name:\"WW-Fonte parág\\. padrão\";} span.WW8Num1z0 {mso-style-name:WW8Num1z0; font-family:Symbol;} span.WW8Num3z0 {mso-style-name:WW8Num3z0; font-family:Symbol;} span.WW8Num4z0 {mso-style-name:WW8Num4z0; font-family:Symbol;} span.WW8Num5z0 {mso-style-name:WW8Num5z0; font-family:Symbol;} span.WW8Num6z0 {mso-style-name:WW8Num6z0; font-family:Symbol;} span.WW8Num7z0 {mso-style-name:WW8Num7z0; font-family:Symbol;} span.WW8Num8z0 {mso-style-name:WW8Num8z0; font-family:Symbol;} span.WW8Num9z0 {mso-style-name:WW8Num9z0; font-family:Symbol;} span.WW8Num10z0 {mso-style-name:WW8Num10z0; font-family:Symbol;} span.WW8Num11z0 {mso-style-name:WW8Num11z0; font-family:Wingdings;} span.WW8Num12z0 {mso-style-name:WW8Num12z0; font-family:Symbol;} span.WW8Num13z0 {mso-style-name:WW8Num13z0; font-family:Symbol;} span.WW-Fontepargpadro1 {mso-style-name:\"WW-Fonte parág\\. padrão1\";} p.Captulo, li.Captulo, div.Captulo {mso-style-name:Capítulo; margin-top:12.0pt; margin-right:0cm; margin-bottom:6.0pt; margin-left:0cm; page-break-after:avoid; font-size:14.0pt; font-family:\"Arial\",\"sans-serif\";} span.CorpodetextoChar {mso-style-name:\"Corpo de texto Char\"; mso-style-link:\"Corpo de texto\";} p.Legenda1, li.Legenda1, div.Legenda1 {mso-style-name:Legenda1; margin-top:6.0pt; margin-right:0cm; margin-bottom:6.0pt; margin-left:0cm; font-size:12.0pt; font-family:\"Times New Roman\",\"serif\"; font-style:italic;} p.ndice, li.ndice, div.ndice {mso-style-name:Índice; margin:0cm; margin-bottom:.0001pt; font-size:10.0pt; font-family:\"Times New Roman\",\"serif\";} span.TtuloChar {mso-style-name:\"Título Char\"; mso-style-link:Título; font-family:\"Cambria\",\"serif\"; font-weight:bold;} span.SubttuloChar {mso-style-name:\"Subtítulo Char\"; mso-style-link:Subtítulo; font-family:\"Cambria\",\"serif\";} span.CabealhoChar {mso-style-name:\"Cabeçalho Char\"; mso-style-link:Cabeçalho;} span.RodapChar {mso-style-name:\"Rodapé Char\"; mso-style-link:Rodapé;} p.Corpodetexto21, li.Corpodetexto21, div.Corpodetexto21 {mso-style-name:\"Corpo de texto 21\"; margin-top:0cm; margin-right:45.0pt; margin-bottom:0cm; margin-left:0cm; margin-bottom:.0001pt; text-align:justify; font-size:12.0pt; font-family:\"Arial\",\"sans-serif\"; font-weight:bold;} p.WW-Ttulo, li.WW-Ttulo, div.WW-Ttulo {mso-style-name:WW-Título; margin:0cm; margin-bottom:.0001pt; text-align:center; font-size:12.0pt; font-family:\"Arial\",\"sans-serif\"; font-weight:bold;} p.Corpodetexto31, li.Corpodetexto31, div.Corpodetexto31 {mso-style-name:\"Corpo de texto 31\"; margin-top:0cm; margin-right:14.15pt; margin-bottom:0cm; margin-left:0cm; margin-bottom:.0001pt; text-align:justify; font-size:12.0pt; font-family:\"Arial\",\"sans-serif\"; font-weight:bold;} span.TextodebaloChar {mso-style-name:\"Texto de balão Char\"; mso-style-link:\"Texto de balão\"; font-family:\"Tahoma\",\"sans-serif\";} /* Page Definitions */ @page WordSection1 {size:8.0cm 841.85pt; margin:0cm 0cm 0cm 0cm;} div.WordSection1 {page:WordSection1;} /* List Definitions */ ol {margin-bottom:0cm;} ul {margin-bottom:0cm;} --> </style> <div class=\"WordSection1\"> <p align=\"center\" class=\"MsoNormal\" style=\"text-align:center;line-height:8.5pt\"> <b> <span style='font-size:7.0pt;font-family:\"Arial\",\"sans-serif\";color:black'> DESPACHO DO SECRETÁRIO </span> </b> </p> <p align=\"center\" class=\"MsoNormal\" style=\"text-align:center;line-height:8.5pt\"> <b> <span style='font-size:7.0pt;font-family:\"Arial\",\"sans-serif\";color:black'> EXPEDIENTE DE 26 / 07 / 2012 </span> </b> </p> <p class=\"MsoNormal\" style=\"line-height:8.5pt\"> <span style='font-size:7.0pt; font-family:\"Arial\",\"sans-serif\"'> </span> </p> <p class=\"MsoBodyText\" style=\"margin-right:0cm;line-height:8.5pt\"> <span style=\"font-size:7.0pt;color:black\"> 16/001.083/10 - Conforme informação da fiscalização às fls. 1.038, autorizo início a partir de 23/07/12 dos Projetos para o Complexo dos Coqueiros, referente ao contrato n.º 034/2012 a cargo da empresa Concremat Engenharia e Tecnologia </span> <span style=\"font-size:7.0pt; color:black\"> Ltda </span> <span style=\"font-size:7.0pt;color:black\"> . </span> </p> </div> </div> <!-- final da div q arruma a materia--> </td> </tr> <tr> <td> </td> </tr> <tr> <td> <i> <sup> * </sup> Este texto não substitui o publicado no Diário Oficial </i> </td> </tr> <tr> <td> </td> </tr> </tbody> \n",
      "\n",
      "47 \n",
      " <tr> <td> <style> #pagina { font-size: px; width:0.00cm; width: 9.4cm; color:#000000; } td { font-size: px; } </style> <div id=\"pagina\"> <meta content=\"text/html; charset=utf-8\" http-equiv=\"Content-Type\"/> <meta content=\"Microsoft Word 14 (filtered)\" name=\"Generator\"/> <title> SECRETARIA MUNICIPAL DE HABITAÇÃO </title> <style> <!-- /* Font Definitions */ @font-face {font-family:Wingdings; panose-1:5 0 0 0 0 0 0 0 0 0;} @font-face {font-family:\"MS Mincho\"; panose-1:2 2 6 9 4 2 5 8 3 4;} @font-face {font-family:\"MS Mincho\"; panose-1:2 2 6 9 4 2 5 8 3 4;} @font-face {font-family:Tahoma; panose-1:2 11 6 4 3 5 4 4 2 4;} @font-face {font-family:\"\\@MS Mincho\"; panose-1:2 2 6 9 4 2 5 8 3 4;} /* Style Definitions */ p.MsoNormal, li.MsoNormal, div.MsoNormal {margin:0cm; margin-bottom:.0001pt; font-size:10.0pt; font-family:\"Times New Roman\",\"serif\";} h1 {mso-style-link:\"Título 1 Char\"; margin:0cm; margin-bottom:.0001pt; text-indent:0cm; page-break-after:avoid; font-size:12.0pt; font-family:\"Arial\",\"sans-serif\";} h2 {mso-style-link:\"Título 2 Char\"; margin:0cm; margin-bottom:.0001pt; text-indent:0cm; page-break-after:avoid; font-size:12.0pt; font-family:\"Times New Roman\",\"serif\";} h3 {mso-style-link:\"Título 3 Char\"; margin:0cm; margin-bottom:.0001pt; text-align:center; text-indent:0cm; page-break-after:avoid; font-size:12.0pt; font-family:\"Arial\",\"sans-serif\";} p.MsoHeader, li.MsoHeader, div.MsoHeader {mso-style-link:\"Cabeçalho Char\"; margin:0cm; margin-bottom:.0001pt; font-size:10.0pt; font-family:\"Times New Roman\",\"serif\";} p.MsoFooter, li.MsoFooter, div.MsoFooter {mso-style-link:\"Rodapé Char\"; margin:0cm; margin-bottom:.0001pt; font-size:10.0pt; font-family:\"Times New Roman\",\"serif\";} p.MsoList, li.MsoList, div.MsoList {margin-top:0cm; margin-right:-.05pt; margin-bottom:0cm; margin-left:0cm; margin-bottom:.0001pt; text-align:justify; font-size:12.0pt; font-family:\"Arial\",\"sans-serif\"; font-weight:bold;} p.MsoTitle, li.MsoTitle, div.MsoTitle {mso-style-link:\"Título Char\"; margin-top:12.0pt; margin-right:0cm; margin-bottom:6.0pt; margin-left:0cm; page-break-after:avoid; font-size:14.0pt; font-family:\"Arial\",\"sans-serif\";} p.MsoBodyText, li.MsoBodyText, div.MsoBodyText {mso-style-link:\"Corpo de texto Char\"; margin-top:0cm; margin-right:-.05pt; margin-bottom:0cm; margin-left:0cm; margin-bottom:.0001pt; text-align:justify; font-size:12.0pt; font-family:\"Arial\",\"sans-serif\"; font-weight:bold;} p.MsoSubtitle, li.MsoSubtitle, div.MsoSubtitle {mso-style-link:\"Subtítulo Char\"; margin-top:12.0pt; margin-right:0cm; margin-bottom:6.0pt; margin-left:0cm; text-align:center; page-break-after:avoid; font-size:14.0pt; font-family:\"Arial\",\"sans-serif\"; font-style:italic;} p.MsoAcetate, li.MsoAcetate, div.MsoAcetate {mso-style-link:\"Texto de balão Char\"; margin:0cm; margin-bottom:.0001pt; font-size:8.0pt; font-family:\"Tahoma\",\"sans-serif\";} span.Ttulo1Char {mso-style-name:\"Título 1 Char\"; mso-style-link:\"Título 1\"; font-family:\"Cambria\",\"serif\"; font-weight:bold;} span.Ttulo2Char {mso-style-name:\"Título 2 Char\"; mso-style-link:\"Título 2\"; font-family:\"Cambria\",\"serif\"; font-weight:bold; font-style:italic;} span.Ttulo3Char {mso-style-name:\"Título 3 Char\"; mso-style-link:\"Título 3\"; font-family:\"Cambria\",\"serif\"; font-weight:bold;} span.Absatz-Standardschriftart {mso-style-name:Absatz-Standardschriftart;} span.WW-Absatz-Standardschriftart {mso-style-name:WW-Absatz-Standardschriftart;} span.WW8Num2z0 {mso-style-name:WW8Num2z0; font-family:Symbol;} span.Fontepargpadro1 {mso-style-name:\"Fonte parág\\. padrão1\";} span.WW-Fontepargpadro {mso-style-name:\"WW-Fonte parág\\. padrão\";} span.WW8Num1z0 {mso-style-name:WW8Num1z0; font-family:Symbol;} span.WW8Num3z0 {mso-style-name:WW8Num3z0; font-family:Symbol;} span.WW8Num4z0 {mso-style-name:WW8Num4z0; font-family:Symbol;} span.WW8Num5z0 {mso-style-name:WW8Num5z0; font-family:Symbol;} span.WW8Num6z0 {mso-style-name:WW8Num6z0; font-family:Symbol;} span.WW8Num7z0 {mso-style-name:WW8Num7z0; font-family:Symbol;} span.WW8Num8z0 {mso-style-name:WW8Num8z0; font-family:Symbol;} span.WW8Num9z0 {mso-style-name:WW8Num9z0; font-family:Symbol;} span.WW8Num10z0 {mso-style-name:WW8Num10z0; font-family:Symbol;} span.WW8Num11z0 {mso-style-name:WW8Num11z0; font-family:Wingdings;} span.WW8Num12z0 {mso-style-name:WW8Num12z0; font-family:Symbol;} span.WW8Num13z0 {mso-style-name:WW8Num13z0; font-family:Symbol;} span.WW-Fontepargpadro1 {mso-style-name:\"WW-Fonte parág\\. padrão1\";} p.Captulo, li.Captulo, div.Captulo {mso-style-name:Capítulo; margin-top:12.0pt; margin-right:0cm; margin-bottom:6.0pt; margin-left:0cm; page-break-after:avoid; font-size:14.0pt; font-family:\"Arial\",\"sans-serif\";} span.CorpodetextoChar {mso-style-name:\"Corpo de texto Char\"; mso-style-link:\"Corpo de texto\";} p.Legenda1, li.Legenda1, div.Legenda1 {mso-style-name:Legenda1; margin-top:6.0pt; margin-right:0cm; margin-bottom:6.0pt; margin-left:0cm; font-size:12.0pt; font-family:\"Times New Roman\",\"serif\"; font-style:italic;} p.ndice, li.ndice, div.ndice {mso-style-name:Índice; margin:0cm; margin-bottom:.0001pt; font-size:10.0pt; font-family:\"Times New Roman\",\"serif\";} span.TtuloChar {mso-style-name:\"Título Char\"; mso-style-link:Título; font-family:\"Cambria\",\"serif\"; font-weight:bold;} span.SubttuloChar {mso-style-name:\"Subtítulo Char\"; mso-style-link:Subtítulo; font-family:\"Cambria\",\"serif\";} span.CabealhoChar {mso-style-name:\"Cabeçalho Char\"; mso-style-link:Cabeçalho;} span.RodapChar {mso-style-name:\"Rodapé Char\"; mso-style-link:Rodapé;} p.Corpodetexto21, li.Corpodetexto21, div.Corpodetexto21 {mso-style-name:\"Corpo de texto 21\"; margin-top:0cm; margin-right:45.0pt; margin-bottom:0cm; margin-left:0cm; margin-bottom:.0001pt; text-align:justify; font-size:12.0pt; font-family:\"Arial\",\"sans-serif\"; font-weight:bold;} p.WW-Ttulo, li.WW-Ttulo, div.WW-Ttulo {mso-style-name:WW-Título; margin:0cm; margin-bottom:.0001pt; text-align:center; font-size:12.0pt; font-family:\"Arial\",\"sans-serif\"; font-weight:bold;} p.Corpodetexto31, li.Corpodetexto31, div.Corpodetexto31 {mso-style-name:\"Corpo de texto 31\"; margin-top:0cm; margin-right:14.15pt; margin-bottom:0cm; margin-left:0cm; margin-bottom:.0001pt; text-align:justify; font-size:12.0pt; font-family:\"Arial\",\"sans-serif\"; font-weight:bold;} span.TextodebaloChar {mso-style-name:\"Texto de balão Char\"; mso-style-link:\"Texto de balão\"; font-family:\"Tahoma\",\"sans-serif\";} /* Page Definitions */ @page WordSection1 {size:8.0cm 841.85pt; margin:0cm 0cm 0cm 0cm;} div.WordSection1 {page:WordSection1;} /* List Definitions */ ol {margin-bottom:0cm;} ul {margin-bottom:0cm;} --> </style> <div class=\"WordSection1\"> <p align=\"center\" class=\"MsoNormal\" style=\"text-align:center;line-height:8.5pt\"> <b> <span style='font-size:7.0pt;font-family:\"Arial\",\"sans-serif\";color:black'> DESPACHO DO SECRETÁRIO </span> </b> </p> <p align=\"center\" class=\"MsoNormal\" style=\"text-align:center;line-height:8.5pt\"> <b> <span style='font-size:7.0pt;font-family:\"Arial\",\"sans-serif\";color:black'> EXPEDIENTE DE 26 / 07 / 2012 </span> </b> </p> <p class=\"MsoNormal\" style=\"line-height:8.5pt\"> <span style='font-size:7.0pt; font-family:\"Arial\",\"sans-serif\"'> </span> </p> <p class=\"MsoBodyText\" style=\"margin-right:0cm;line-height:8.5pt\"> <span style=\"font-size:7.0pt;color:black\"> 16/001.083/10 - Conforme informação da fiscalização às fls. 1.038, autorizo início a partir de 23/07/12 dos Projetos para o Complexo dos Coqueiros, referente ao contrato n.º 034/2012 a cargo da empresa Concremat Engenharia e Tecnologia </span> <span style=\"font-size:7.0pt; color:black\"> Ltda </span> <span style=\"font-size:7.0pt;color:black\"> . </span> </p> </div> </div> <!-- final da div q arruma a materia--> </td> </tr> \n",
      "\n",
      "48 \n",
      " <td> <style> #pagina { font-size: px; width:0.00cm; width: 9.4cm; color:#000000; } td { font-size: px; } </style> <div id=\"pagina\"> <meta content=\"text/html; charset=utf-8\" http-equiv=\"Content-Type\"/> <meta content=\"Microsoft Word 14 (filtered)\" name=\"Generator\"/> <title> SECRETARIA MUNICIPAL DE HABITAÇÃO </title> <style> <!-- /* Font Definitions */ @font-face {font-family:Wingdings; panose-1:5 0 0 0 0 0 0 0 0 0;} @font-face {font-family:\"MS Mincho\"; panose-1:2 2 6 9 4 2 5 8 3 4;} @font-face {font-family:\"MS Mincho\"; panose-1:2 2 6 9 4 2 5 8 3 4;} @font-face {font-family:Tahoma; panose-1:2 11 6 4 3 5 4 4 2 4;} @font-face {font-family:\"\\@MS Mincho\"; panose-1:2 2 6 9 4 2 5 8 3 4;} /* Style Definitions */ p.MsoNormal, li.MsoNormal, div.MsoNormal {margin:0cm; margin-bottom:.0001pt; font-size:10.0pt; font-family:\"Times New Roman\",\"serif\";} h1 {mso-style-link:\"Título 1 Char\"; margin:0cm; margin-bottom:.0001pt; text-indent:0cm; page-break-after:avoid; font-size:12.0pt; font-family:\"Arial\",\"sans-serif\";} h2 {mso-style-link:\"Título 2 Char\"; margin:0cm; margin-bottom:.0001pt; text-indent:0cm; page-break-after:avoid; font-size:12.0pt; font-family:\"Times New Roman\",\"serif\";} h3 {mso-style-link:\"Título 3 Char\"; margin:0cm; margin-bottom:.0001pt; text-align:center; text-indent:0cm; page-break-after:avoid; font-size:12.0pt; font-family:\"Arial\",\"sans-serif\";} p.MsoHeader, li.MsoHeader, div.MsoHeader {mso-style-link:\"Cabeçalho Char\"; margin:0cm; margin-bottom:.0001pt; font-size:10.0pt; font-family:\"Times New Roman\",\"serif\";} p.MsoFooter, li.MsoFooter, div.MsoFooter {mso-style-link:\"Rodapé Char\"; margin:0cm; margin-bottom:.0001pt; font-size:10.0pt; font-family:\"Times New Roman\",\"serif\";} p.MsoList, li.MsoList, div.MsoList {margin-top:0cm; margin-right:-.05pt; margin-bottom:0cm; margin-left:0cm; margin-bottom:.0001pt; text-align:justify; font-size:12.0pt; font-family:\"Arial\",\"sans-serif\"; font-weight:bold;} p.MsoTitle, li.MsoTitle, div.MsoTitle {mso-style-link:\"Título Char\"; margin-top:12.0pt; margin-right:0cm; margin-bottom:6.0pt; margin-left:0cm; page-break-after:avoid; font-size:14.0pt; font-family:\"Arial\",\"sans-serif\";} p.MsoBodyText, li.MsoBodyText, div.MsoBodyText {mso-style-link:\"Corpo de texto Char\"; margin-top:0cm; margin-right:-.05pt; margin-bottom:0cm; margin-left:0cm; margin-bottom:.0001pt; text-align:justify; font-size:12.0pt; font-family:\"Arial\",\"sans-serif\"; font-weight:bold;} p.MsoSubtitle, li.MsoSubtitle, div.MsoSubtitle {mso-style-link:\"Subtítulo Char\"; margin-top:12.0pt; margin-right:0cm; margin-bottom:6.0pt; margin-left:0cm; text-align:center; page-break-after:avoid; font-size:14.0pt; font-family:\"Arial\",\"sans-serif\"; font-style:italic;} p.MsoAcetate, li.MsoAcetate, div.MsoAcetate {mso-style-link:\"Texto de balão Char\"; margin:0cm; margin-bottom:.0001pt; font-size:8.0pt; font-family:\"Tahoma\",\"sans-serif\";} span.Ttulo1Char {mso-style-name:\"Título 1 Char\"; mso-style-link:\"Título 1\"; font-family:\"Cambria\",\"serif\"; font-weight:bold;} span.Ttulo2Char {mso-style-name:\"Título 2 Char\"; mso-style-link:\"Título 2\"; font-family:\"Cambria\",\"serif\"; font-weight:bold; font-style:italic;} span.Ttulo3Char {mso-style-name:\"Título 3 Char\"; mso-style-link:\"Título 3\"; font-family:\"Cambria\",\"serif\"; font-weight:bold;} span.Absatz-Standardschriftart {mso-style-name:Absatz-Standardschriftart;} span.WW-Absatz-Standardschriftart {mso-style-name:WW-Absatz-Standardschriftart;} span.WW8Num2z0 {mso-style-name:WW8Num2z0; font-family:Symbol;} span.Fontepargpadro1 {mso-style-name:\"Fonte parág\\. padrão1\";} span.WW-Fontepargpadro {mso-style-name:\"WW-Fonte parág\\. padrão\";} span.WW8Num1z0 {mso-style-name:WW8Num1z0; font-family:Symbol;} span.WW8Num3z0 {mso-style-name:WW8Num3z0; font-family:Symbol;} span.WW8Num4z0 {mso-style-name:WW8Num4z0; font-family:Symbol;} span.WW8Num5z0 {mso-style-name:WW8Num5z0; font-family:Symbol;} span.WW8Num6z0 {mso-style-name:WW8Num6z0; font-family:Symbol;} span.WW8Num7z0 {mso-style-name:WW8Num7z0; font-family:Symbol;} span.WW8Num8z0 {mso-style-name:WW8Num8z0; font-family:Symbol;} span.WW8Num9z0 {mso-style-name:WW8Num9z0; font-family:Symbol;} span.WW8Num10z0 {mso-style-name:WW8Num10z0; font-family:Symbol;} span.WW8Num11z0 {mso-style-name:WW8Num11z0; font-family:Wingdings;} span.WW8Num12z0 {mso-style-name:WW8Num12z0; font-family:Symbol;} span.WW8Num13z0 {mso-style-name:WW8Num13z0; font-family:Symbol;} span.WW-Fontepargpadro1 {mso-style-name:\"WW-Fonte parág\\. padrão1\";} p.Captulo, li.Captulo, div.Captulo {mso-style-name:Capítulo; margin-top:12.0pt; margin-right:0cm; margin-bottom:6.0pt; margin-left:0cm; page-break-after:avoid; font-size:14.0pt; font-family:\"Arial\",\"sans-serif\";} span.CorpodetextoChar {mso-style-name:\"Corpo de texto Char\"; mso-style-link:\"Corpo de texto\";} p.Legenda1, li.Legenda1, div.Legenda1 {mso-style-name:Legenda1; margin-top:6.0pt; margin-right:0cm; margin-bottom:6.0pt; margin-left:0cm; font-size:12.0pt; font-family:\"Times New Roman\",\"serif\"; font-style:italic;} p.ndice, li.ndice, div.ndice {mso-style-name:Índice; margin:0cm; margin-bottom:.0001pt; font-size:10.0pt; font-family:\"Times New Roman\",\"serif\";} span.TtuloChar {mso-style-name:\"Título Char\"; mso-style-link:Título; font-family:\"Cambria\",\"serif\"; font-weight:bold;} span.SubttuloChar {mso-style-name:\"Subtítulo Char\"; mso-style-link:Subtítulo; font-family:\"Cambria\",\"serif\";} span.CabealhoChar {mso-style-name:\"Cabeçalho Char\"; mso-style-link:Cabeçalho;} span.RodapChar {mso-style-name:\"Rodapé Char\"; mso-style-link:Rodapé;} p.Corpodetexto21, li.Corpodetexto21, div.Corpodetexto21 {mso-style-name:\"Corpo de texto 21\"; margin-top:0cm; margin-right:45.0pt; margin-bottom:0cm; margin-left:0cm; margin-bottom:.0001pt; text-align:justify; font-size:12.0pt; font-family:\"Arial\",\"sans-serif\"; font-weight:bold;} p.WW-Ttulo, li.WW-Ttulo, div.WW-Ttulo {mso-style-name:WW-Título; margin:0cm; margin-bottom:.0001pt; text-align:center; font-size:12.0pt; font-family:\"Arial\",\"sans-serif\"; font-weight:bold;} p.Corpodetexto31, li.Corpodetexto31, div.Corpodetexto31 {mso-style-name:\"Corpo de texto 31\"; margin-top:0cm; margin-right:14.15pt; margin-bottom:0cm; margin-left:0cm; margin-bottom:.0001pt; text-align:justify; font-size:12.0pt; font-family:\"Arial\",\"sans-serif\"; font-weight:bold;} span.TextodebaloChar {mso-style-name:\"Texto de balão Char\"; mso-style-link:\"Texto de balão\"; font-family:\"Tahoma\",\"sans-serif\";} /* Page Definitions */ @page WordSection1 {size:8.0cm 841.85pt; margin:0cm 0cm 0cm 0cm;} div.WordSection1 {page:WordSection1;} /* List Definitions */ ol {margin-bottom:0cm;} ul {margin-bottom:0cm;} --> </style> <div class=\"WordSection1\"> <p align=\"center\" class=\"MsoNormal\" style=\"text-align:center;line-height:8.5pt\"> <b> <span style='font-size:7.0pt;font-family:\"Arial\",\"sans-serif\";color:black'> DESPACHO DO SECRETÁRIO </span> </b> </p> <p align=\"center\" class=\"MsoNormal\" style=\"text-align:center;line-height:8.5pt\"> <b> <span style='font-size:7.0pt;font-family:\"Arial\",\"sans-serif\";color:black'> EXPEDIENTE DE 26 / 07 / 2012 </span> </b> </p> <p class=\"MsoNormal\" style=\"line-height:8.5pt\"> <span style='font-size:7.0pt; font-family:\"Arial\",\"sans-serif\"'> </span> </p> <p class=\"MsoBodyText\" style=\"margin-right:0cm;line-height:8.5pt\"> <span style=\"font-size:7.0pt;color:black\"> 16/001.083/10 - Conforme informação da fiscalização às fls. 1.038, autorizo início a partir de 23/07/12 dos Projetos para o Complexo dos Coqueiros, referente ao contrato n.º 034/2012 a cargo da empresa Concremat Engenharia e Tecnologia </span> <span style=\"font-size:7.0pt; color:black\"> Ltda </span> <span style=\"font-size:7.0pt;color:black\"> . </span> </p> </div> </div> <!-- final da div q arruma a materia--> </td> \n",
      "\n",
      "49 \n",
      " <style> #pagina { font-size: px; width:0.00cm; width: 9.4cm; color:#000000; } td { font-size: px; } </style> \n",
      "\n",
      "50 \n",
      " <div id=\"pagina\"> <meta content=\"text/html; charset=utf-8\" http-equiv=\"Content-Type\"/> <meta content=\"Microsoft Word 14 (filtered)\" name=\"Generator\"/> <title> SECRETARIA MUNICIPAL DE HABITAÇÃO </title> <style> <!-- /* Font Definitions */ @font-face {font-family:Wingdings; panose-1:5 0 0 0 0 0 0 0 0 0;} @font-face {font-family:\"MS Mincho\"; panose-1:2 2 6 9 4 2 5 8 3 4;} @font-face {font-family:\"MS Mincho\"; panose-1:2 2 6 9 4 2 5 8 3 4;} @font-face {font-family:Tahoma; panose-1:2 11 6 4 3 5 4 4 2 4;} @font-face {font-family:\"\\@MS Mincho\"; panose-1:2 2 6 9 4 2 5 8 3 4;} /* Style Definitions */ p.MsoNormal, li.MsoNormal, div.MsoNormal {margin:0cm; margin-bottom:.0001pt; font-size:10.0pt; font-family:\"Times New Roman\",\"serif\";} h1 {mso-style-link:\"Título 1 Char\"; margin:0cm; margin-bottom:.0001pt; text-indent:0cm; page-break-after:avoid; font-size:12.0pt; font-family:\"Arial\",\"sans-serif\";} h2 {mso-style-link:\"Título 2 Char\"; margin:0cm; margin-bottom:.0001pt; text-indent:0cm; page-break-after:avoid; font-size:12.0pt; font-family:\"Times New Roman\",\"serif\";} h3 {mso-style-link:\"Título 3 Char\"; margin:0cm; margin-bottom:.0001pt; text-align:center; text-indent:0cm; page-break-after:avoid; font-size:12.0pt; font-family:\"Arial\",\"sans-serif\";} p.MsoHeader, li.MsoHeader, div.MsoHeader {mso-style-link:\"Cabeçalho Char\"; margin:0cm; margin-bottom:.0001pt; font-size:10.0pt; font-family:\"Times New Roman\",\"serif\";} p.MsoFooter, li.MsoFooter, div.MsoFooter {mso-style-link:\"Rodapé Char\"; margin:0cm; margin-bottom:.0001pt; font-size:10.0pt; font-family:\"Times New Roman\",\"serif\";} p.MsoList, li.MsoList, div.MsoList {margin-top:0cm; margin-right:-.05pt; margin-bottom:0cm; margin-left:0cm; margin-bottom:.0001pt; text-align:justify; font-size:12.0pt; font-family:\"Arial\",\"sans-serif\"; font-weight:bold;} p.MsoTitle, li.MsoTitle, div.MsoTitle {mso-style-link:\"Título Char\"; margin-top:12.0pt; margin-right:0cm; margin-bottom:6.0pt; margin-left:0cm; page-break-after:avoid; font-size:14.0pt; font-family:\"Arial\",\"sans-serif\";} p.MsoBodyText, li.MsoBodyText, div.MsoBodyText {mso-style-link:\"Corpo de texto Char\"; margin-top:0cm; margin-right:-.05pt; margin-bottom:0cm; margin-left:0cm; margin-bottom:.0001pt; text-align:justify; font-size:12.0pt; font-family:\"Arial\",\"sans-serif\"; font-weight:bold;} p.MsoSubtitle, li.MsoSubtitle, div.MsoSubtitle {mso-style-link:\"Subtítulo Char\"; margin-top:12.0pt; margin-right:0cm; margin-bottom:6.0pt; margin-left:0cm; text-align:center; page-break-after:avoid; font-size:14.0pt; font-family:\"Arial\",\"sans-serif\"; font-style:italic;} p.MsoAcetate, li.MsoAcetate, div.MsoAcetate {mso-style-link:\"Texto de balão Char\"; margin:0cm; margin-bottom:.0001pt; font-size:8.0pt; font-family:\"Tahoma\",\"sans-serif\";} span.Ttulo1Char {mso-style-name:\"Título 1 Char\"; mso-style-link:\"Título 1\"; font-family:\"Cambria\",\"serif\"; font-weight:bold;} span.Ttulo2Char {mso-style-name:\"Título 2 Char\"; mso-style-link:\"Título 2\"; font-family:\"Cambria\",\"serif\"; font-weight:bold; font-style:italic;} span.Ttulo3Char {mso-style-name:\"Título 3 Char\"; mso-style-link:\"Título 3\"; font-family:\"Cambria\",\"serif\"; font-weight:bold;} span.Absatz-Standardschriftart {mso-style-name:Absatz-Standardschriftart;} span.WW-Absatz-Standardschriftart {mso-style-name:WW-Absatz-Standardschriftart;} span.WW8Num2z0 {mso-style-name:WW8Num2z0; font-family:Symbol;} span.Fontepargpadro1 {mso-style-name:\"Fonte parág\\. padrão1\";} span.WW-Fontepargpadro {mso-style-name:\"WW-Fonte parág\\. padrão\";} span.WW8Num1z0 {mso-style-name:WW8Num1z0; font-family:Symbol;} span.WW8Num3z0 {mso-style-name:WW8Num3z0; font-family:Symbol;} span.WW8Num4z0 {mso-style-name:WW8Num4z0; font-family:Symbol;} span.WW8Num5z0 {mso-style-name:WW8Num5z0; font-family:Symbol;} span.WW8Num6z0 {mso-style-name:WW8Num6z0; font-family:Symbol;} span.WW8Num7z0 {mso-style-name:WW8Num7z0; font-family:Symbol;} span.WW8Num8z0 {mso-style-name:WW8Num8z0; font-family:Symbol;} span.WW8Num9z0 {mso-style-name:WW8Num9z0; font-family:Symbol;} span.WW8Num10z0 {mso-style-name:WW8Num10z0; font-family:Symbol;} span.WW8Num11z0 {mso-style-name:WW8Num11z0; font-family:Wingdings;} span.WW8Num12z0 {mso-style-name:WW8Num12z0; font-family:Symbol;} span.WW8Num13z0 {mso-style-name:WW8Num13z0; font-family:Symbol;} span.WW-Fontepargpadro1 {mso-style-name:\"WW-Fonte parág\\. padrão1\";} p.Captulo, li.Captulo, div.Captulo {mso-style-name:Capítulo; margin-top:12.0pt; margin-right:0cm; margin-bottom:6.0pt; margin-left:0cm; page-break-after:avoid; font-size:14.0pt; font-family:\"Arial\",\"sans-serif\";} span.CorpodetextoChar {mso-style-name:\"Corpo de texto Char\"; mso-style-link:\"Corpo de texto\";} p.Legenda1, li.Legenda1, div.Legenda1 {mso-style-name:Legenda1; margin-top:6.0pt; margin-right:0cm; margin-bottom:6.0pt; margin-left:0cm; font-size:12.0pt; font-family:\"Times New Roman\",\"serif\"; font-style:italic;} p.ndice, li.ndice, div.ndice {mso-style-name:Índice; margin:0cm; margin-bottom:.0001pt; font-size:10.0pt; font-family:\"Times New Roman\",\"serif\";} span.TtuloChar {mso-style-name:\"Título Char\"; mso-style-link:Título; font-family:\"Cambria\",\"serif\"; font-weight:bold;} span.SubttuloChar {mso-style-name:\"Subtítulo Char\"; mso-style-link:Subtítulo; font-family:\"Cambria\",\"serif\";} span.CabealhoChar {mso-style-name:\"Cabeçalho Char\"; mso-style-link:Cabeçalho;} span.RodapChar {mso-style-name:\"Rodapé Char\"; mso-style-link:Rodapé;} p.Corpodetexto21, li.Corpodetexto21, div.Corpodetexto21 {mso-style-name:\"Corpo de texto 21\"; margin-top:0cm; margin-right:45.0pt; margin-bottom:0cm; margin-left:0cm; margin-bottom:.0001pt; text-align:justify; font-size:12.0pt; font-family:\"Arial\",\"sans-serif\"; font-weight:bold;} p.WW-Ttulo, li.WW-Ttulo, div.WW-Ttulo {mso-style-name:WW-Título; margin:0cm; margin-bottom:.0001pt; text-align:center; font-size:12.0pt; font-family:\"Arial\",\"sans-serif\"; font-weight:bold;} p.Corpodetexto31, li.Corpodetexto31, div.Corpodetexto31 {mso-style-name:\"Corpo de texto 31\"; margin-top:0cm; margin-right:14.15pt; margin-bottom:0cm; margin-left:0cm; margin-bottom:.0001pt; text-align:justify; font-size:12.0pt; font-family:\"Arial\",\"sans-serif\"; font-weight:bold;} span.TextodebaloChar {mso-style-name:\"Texto de balão Char\"; mso-style-link:\"Texto de balão\"; font-family:\"Tahoma\",\"sans-serif\";} /* Page Definitions */ @page WordSection1 {size:8.0cm 841.85pt; margin:0cm 0cm 0cm 0cm;} div.WordSection1 {page:WordSection1;} /* List Definitions */ ol {margin-bottom:0cm;} ul {margin-bottom:0cm;} --> </style> <div class=\"WordSection1\"> <p align=\"center\" class=\"MsoNormal\" style=\"text-align:center;line-height:8.5pt\"> <b> <span style='font-size:7.0pt;font-family:\"Arial\",\"sans-serif\";color:black'> DESPACHO DO SECRETÁRIO </span> </b> </p> <p align=\"center\" class=\"MsoNormal\" style=\"text-align:center;line-height:8.5pt\"> <b> <span style='font-size:7.0pt;font-family:\"Arial\",\"sans-serif\";color:black'> EXPEDIENTE DE 26 / 07 / 2012 </span> </b> </p> <p class=\"MsoNormal\" style=\"line-height:8.5pt\"> <span style='font-size:7.0pt; font-family:\"Arial\",\"sans-serif\"'> </span> </p> <p class=\"MsoBodyText\" style=\"margin-right:0cm;line-height:8.5pt\"> <span style=\"font-size:7.0pt;color:black\"> 16/001.083/10 - Conforme informação da fiscalização às fls. 1.038, autorizo início a partir de 23/07/12 dos Projetos para o Complexo dos Coqueiros, referente ao contrato n.º 034/2012 a cargo da empresa Concremat Engenharia e Tecnologia </span> <span style=\"font-size:7.0pt; color:black\"> Ltda </span> <span style=\"font-size:7.0pt;color:black\"> . </span> </p> </div> </div> \n",
      "\n",
      "51 \n",
      " <meta content=\"text/html; charset=utf-8\" http-equiv=\"Content-Type\"/> \n",
      "\n",
      "52 \n",
      " <meta content=\"Microsoft Word 14 (filtered)\" name=\"Generator\"/> \n",
      "\n",
      "53 \n",
      " <title> SECRETARIA MUNICIPAL DE HABITAÇÃO </title> \n",
      "\n",
      "54 \n",
      " <style> <!-- /* Font Definitions */ @font-face {font-family:Wingdings; panose-1:5 0 0 0 0 0 0 0 0 0;} @font-face {font-family:\"MS Mincho\"; panose-1:2 2 6 9 4 2 5 8 3 4;} @font-face {font-family:\"MS Mincho\"; panose-1:2 2 6 9 4 2 5 8 3 4;} @font-face {font-family:Tahoma; panose-1:2 11 6 4 3 5 4 4 2 4;} @font-face {font-family:\"\\@MS Mincho\"; panose-1:2 2 6 9 4 2 5 8 3 4;} /* Style Definitions */ p.MsoNormal, li.MsoNormal, div.MsoNormal {margin:0cm; margin-bottom:.0001pt; font-size:10.0pt; font-family:\"Times New Roman\",\"serif\";} h1 {mso-style-link:\"Título 1 Char\"; margin:0cm; margin-bottom:.0001pt; text-indent:0cm; page-break-after:avoid; font-size:12.0pt; font-family:\"Arial\",\"sans-serif\";} h2 {mso-style-link:\"Título 2 Char\"; margin:0cm; margin-bottom:.0001pt; text-indent:0cm; page-break-after:avoid; font-size:12.0pt; font-family:\"Times New Roman\",\"serif\";} h3 {mso-style-link:\"Título 3 Char\"; margin:0cm; margin-bottom:.0001pt; text-align:center; text-indent:0cm; page-break-after:avoid; font-size:12.0pt; font-family:\"Arial\",\"sans-serif\";} p.MsoHeader, li.MsoHeader, div.MsoHeader {mso-style-link:\"Cabeçalho Char\"; margin:0cm; margin-bottom:.0001pt; font-size:10.0pt; font-family:\"Times New Roman\",\"serif\";} p.MsoFooter, li.MsoFooter, div.MsoFooter {mso-style-link:\"Rodapé Char\"; margin:0cm; margin-bottom:.0001pt; font-size:10.0pt; font-family:\"Times New Roman\",\"serif\";} p.MsoList, li.MsoList, div.MsoList {margin-top:0cm; margin-right:-.05pt; margin-bottom:0cm; margin-left:0cm; margin-bottom:.0001pt; text-align:justify; font-size:12.0pt; font-family:\"Arial\",\"sans-serif\"; font-weight:bold;} p.MsoTitle, li.MsoTitle, div.MsoTitle {mso-style-link:\"Título Char\"; margin-top:12.0pt; margin-right:0cm; margin-bottom:6.0pt; margin-left:0cm; page-break-after:avoid; font-size:14.0pt; font-family:\"Arial\",\"sans-serif\";} p.MsoBodyText, li.MsoBodyText, div.MsoBodyText {mso-style-link:\"Corpo de texto Char\"; margin-top:0cm; margin-right:-.05pt; margin-bottom:0cm; margin-left:0cm; margin-bottom:.0001pt; text-align:justify; font-size:12.0pt; font-family:\"Arial\",\"sans-serif\"; font-weight:bold;} p.MsoSubtitle, li.MsoSubtitle, div.MsoSubtitle {mso-style-link:\"Subtítulo Char\"; margin-top:12.0pt; margin-right:0cm; margin-bottom:6.0pt; margin-left:0cm; text-align:center; page-break-after:avoid; font-size:14.0pt; font-family:\"Arial\",\"sans-serif\"; font-style:italic;} p.MsoAcetate, li.MsoAcetate, div.MsoAcetate {mso-style-link:\"Texto de balão Char\"; margin:0cm; margin-bottom:.0001pt; font-size:8.0pt; font-family:\"Tahoma\",\"sans-serif\";} span.Ttulo1Char {mso-style-name:\"Título 1 Char\"; mso-style-link:\"Título 1\"; font-family:\"Cambria\",\"serif\"; font-weight:bold;} span.Ttulo2Char {mso-style-name:\"Título 2 Char\"; mso-style-link:\"Título 2\"; font-family:\"Cambria\",\"serif\"; font-weight:bold; font-style:italic;} span.Ttulo3Char {mso-style-name:\"Título 3 Char\"; mso-style-link:\"Título 3\"; font-family:\"Cambria\",\"serif\"; font-weight:bold;} span.Absatz-Standardschriftart {mso-style-name:Absatz-Standardschriftart;} span.WW-Absatz-Standardschriftart {mso-style-name:WW-Absatz-Standardschriftart;} span.WW8Num2z0 {mso-style-name:WW8Num2z0; font-family:Symbol;} span.Fontepargpadro1 {mso-style-name:\"Fonte parág\\. padrão1\";} span.WW-Fontepargpadro {mso-style-name:\"WW-Fonte parág\\. padrão\";} span.WW8Num1z0 {mso-style-name:WW8Num1z0; font-family:Symbol;} span.WW8Num3z0 {mso-style-name:WW8Num3z0; font-family:Symbol;} span.WW8Num4z0 {mso-style-name:WW8Num4z0; font-family:Symbol;} span.WW8Num5z0 {mso-style-name:WW8Num5z0; font-family:Symbol;} span.WW8Num6z0 {mso-style-name:WW8Num6z0; font-family:Symbol;} span.WW8Num7z0 {mso-style-name:WW8Num7z0; font-family:Symbol;} span.WW8Num8z0 {mso-style-name:WW8Num8z0; font-family:Symbol;} span.WW8Num9z0 {mso-style-name:WW8Num9z0; font-family:Symbol;} span.WW8Num10z0 {mso-style-name:WW8Num10z0; font-family:Symbol;} span.WW8Num11z0 {mso-style-name:WW8Num11z0; font-family:Wingdings;} span.WW8Num12z0 {mso-style-name:WW8Num12z0; font-family:Symbol;} span.WW8Num13z0 {mso-style-name:WW8Num13z0; font-family:Symbol;} span.WW-Fontepargpadro1 {mso-style-name:\"WW-Fonte parág\\. padrão1\";} p.Captulo, li.Captulo, div.Captulo {mso-style-name:Capítulo; margin-top:12.0pt; margin-right:0cm; margin-bottom:6.0pt; margin-left:0cm; page-break-after:avoid; font-size:14.0pt; font-family:\"Arial\",\"sans-serif\";} span.CorpodetextoChar {mso-style-name:\"Corpo de texto Char\"; mso-style-link:\"Corpo de texto\";} p.Legenda1, li.Legenda1, div.Legenda1 {mso-style-name:Legenda1; margin-top:6.0pt; margin-right:0cm; margin-bottom:6.0pt; margin-left:0cm; font-size:12.0pt; font-family:\"Times New Roman\",\"serif\"; font-style:italic;} p.ndice, li.ndice, div.ndice {mso-style-name:Índice; margin:0cm; margin-bottom:.0001pt; font-size:10.0pt; font-family:\"Times New Roman\",\"serif\";} span.TtuloChar {mso-style-name:\"Título Char\"; mso-style-link:Título; font-family:\"Cambria\",\"serif\"; font-weight:bold;} span.SubttuloChar {mso-style-name:\"Subtítulo Char\"; mso-style-link:Subtítulo; font-family:\"Cambria\",\"serif\";} span.CabealhoChar {mso-style-name:\"Cabeçalho Char\"; mso-style-link:Cabeçalho;} span.RodapChar {mso-style-name:\"Rodapé Char\"; mso-style-link:Rodapé;} p.Corpodetexto21, li.Corpodetexto21, div.Corpodetexto21 {mso-style-name:\"Corpo de texto 21\"; margin-top:0cm; margin-right:45.0pt; margin-bottom:0cm; margin-left:0cm; margin-bottom:.0001pt; text-align:justify; font-size:12.0pt; font-family:\"Arial\",\"sans-serif\"; font-weight:bold;} p.WW-Ttulo, li.WW-Ttulo, div.WW-Ttulo {mso-style-name:WW-Título; margin:0cm; margin-bottom:.0001pt; text-align:center; font-size:12.0pt; font-family:\"Arial\",\"sans-serif\"; font-weight:bold;} p.Corpodetexto31, li.Corpodetexto31, div.Corpodetexto31 {mso-style-name:\"Corpo de texto 31\"; margin-top:0cm; margin-right:14.15pt; margin-bottom:0cm; margin-left:0cm; margin-bottom:.0001pt; text-align:justify; font-size:12.0pt; font-family:\"Arial\",\"sans-serif\"; font-weight:bold;} span.TextodebaloChar {mso-style-name:\"Texto de balão Char\"; mso-style-link:\"Texto de balão\"; font-family:\"Tahoma\",\"sans-serif\";} /* Page Definitions */ @page WordSection1 {size:8.0cm 841.85pt; margin:0cm 0cm 0cm 0cm;} div.WordSection1 {page:WordSection1;} /* List Definitions */ ol {margin-bottom:0cm;} ul {margin-bottom:0cm;} --> </style> \n",
      "\n",
      "55 \n",
      " <div class=\"WordSection1\"> <p align=\"center\" class=\"MsoNormal\" style=\"text-align:center;line-height:8.5pt\"> <b> <span style='font-size:7.0pt;font-family:\"Arial\",\"sans-serif\";color:black'> DESPACHO DO SECRETÁRIO </span> </b> </p> <p align=\"center\" class=\"MsoNormal\" style=\"text-align:center;line-height:8.5pt\"> <b> <span style='font-size:7.0pt;font-family:\"Arial\",\"sans-serif\";color:black'> EXPEDIENTE DE 26 / 07 / 2012 </span> </b> </p> <p class=\"MsoNormal\" style=\"line-height:8.5pt\"> <span style='font-size:7.0pt; font-family:\"Arial\",\"sans-serif\"'> </span> </p> <p class=\"MsoBodyText\" style=\"margin-right:0cm;line-height:8.5pt\"> <span style=\"font-size:7.0pt;color:black\"> 16/001.083/10 - Conforme informação da fiscalização às fls. 1.038, autorizo início a partir de 23/07/12 dos Projetos para o Complexo dos Coqueiros, referente ao contrato n.º 034/2012 a cargo da empresa Concremat Engenharia e Tecnologia </span> <span style=\"font-size:7.0pt; color:black\"> Ltda </span> <span style=\"font-size:7.0pt;color:black\"> . </span> </p> </div> \n",
      "\n",
      "56 \n",
      " <p align=\"center\" class=\"MsoNormal\" style=\"text-align:center;line-height:8.5pt\"> <b> <span style='font-size:7.0pt;font-family:\"Arial\",\"sans-serif\";color:black'> DESPACHO DO SECRETÁRIO </span> </b> </p> \n",
      "\n",
      "57 \n",
      " <b> <span style='font-size:7.0pt;font-family:\"Arial\",\"sans-serif\";color:black'> DESPACHO DO SECRETÁRIO </span> </b> \n",
      "\n",
      "58 \n",
      " <span style='font-size:7.0pt;font-family:\"Arial\",\"sans-serif\";color:black'> DESPACHO DO SECRETÁRIO </span> \n",
      "\n",
      "59 \n",
      " <p align=\"center\" class=\"MsoNormal\" style=\"text-align:center;line-height:8.5pt\"> <b> <span style='font-size:7.0pt;font-family:\"Arial\",\"sans-serif\";color:black'> EXPEDIENTE DE 26 / 07 / 2012 </span> </b> </p> \n",
      "\n",
      "60 \n",
      " <b> <span style='font-size:7.0pt;font-family:\"Arial\",\"sans-serif\";color:black'> EXPEDIENTE DE 26 / 07 / 2012 </span> </b> \n",
      "\n",
      "61 \n",
      " <span style='font-size:7.0pt;font-family:\"Arial\",\"sans-serif\";color:black'> EXPEDIENTE DE 26 / 07 / 2012 </span> \n",
      "\n",
      "62 \n",
      " <p class=\"MsoNormal\" style=\"line-height:8.5pt\"> <span style='font-size:7.0pt; font-family:\"Arial\",\"sans-serif\"'> </span> </p> \n",
      "\n",
      "63 \n",
      " <span style='font-size:7.0pt; font-family:\"Arial\",\"sans-serif\"'> </span> \n",
      "\n",
      "64 \n",
      " <p class=\"MsoBodyText\" style=\"margin-right:0cm;line-height:8.5pt\"> <span style=\"font-size:7.0pt;color:black\"> 16/001.083/10 - Conforme informação da fiscalização às fls. 1.038, autorizo início a partir de 23/07/12 dos Projetos para o Complexo dos Coqueiros, referente ao contrato n.º 034/2012 a cargo da empresa Concremat Engenharia e Tecnologia </span> <span style=\"font-size:7.0pt; color:black\"> Ltda </span> <span style=\"font-size:7.0pt;color:black\"> . </span> </p> \n",
      "\n",
      "65 \n",
      " <span style=\"font-size:7.0pt;color:black\"> 16/001.083/10 - Conforme informação da fiscalização às fls. 1.038, autorizo início a partir de 23/07/12 dos Projetos para o Complexo dos Coqueiros, referente ao contrato n.º 034/2012 a cargo da empresa Concremat Engenharia e Tecnologia </span> \n",
      "\n",
      "66 \n",
      " <span style=\"font-size:7.0pt; color:black\"> Ltda </span> \n",
      "\n",
      "67 \n",
      " <span style=\"font-size:7.0pt;color:black\"> . </span> \n",
      "\n",
      "68 \n",
      " <tr> <td> </td> </tr> \n",
      "\n",
      "69 \n",
      " <td> </td> \n",
      "\n",
      "70 \n",
      " <tr> <td> <i> <sup> * </sup> Este texto não substitui o publicado no Diário Oficial </i> </td> </tr> \n",
      "\n",
      "71 \n",
      " <td> <i> <sup> * </sup> Este texto não substitui o publicado no Diário Oficial </i> </td> \n",
      "\n",
      "72 \n",
      " <i> <sup> * </sup> Este texto não substitui o publicado no Diário Oficial </i> \n",
      "\n",
      "73 \n",
      " <sup> * </sup> \n",
      "\n",
      "68 \n",
      " <tr> <td> </td> </tr> \n",
      "\n",
      "69 \n",
      " <td> </td> \n",
      "\n",
      "76 \n",
      " <tr> <td> <hr/> <a href=\"#\" onclick=\"javascript:Imprimir_materia(12906, 1827)\"> <img border=\"0\" height=\"25px\" hspace=\"5\" src=\"../../images/impressora01.gif\" width=\"25px\"/> <font class=\"d_rtf\"> Imprimir </font> </a> </td> </tr> \n",
      "\n",
      "77 \n",
      " <td> <hr/> <a href=\"#\" onclick=\"javascript:Imprimir_materia(12906, 1827)\"> <img border=\"0\" height=\"25px\" hspace=\"5\" src=\"../../images/impressora01.gif\" width=\"25px\"/> <font class=\"d_rtf\"> Imprimir </font> </a> </td> \n",
      "\n",
      "23 \n",
      " <hr/> \n",
      "\n",
      "20 \n",
      " <a href=\"#\" onclick=\"javascript:Imprimir_materia(12906, 1827)\"> <img border=\"0\" height=\"25px\" hspace=\"5\" src=\"../../images/impressora01.gif\" width=\"25px\"/> <font class=\"d_rtf\"> Imprimir </font> </a> \n",
      "\n",
      "21 \n",
      " <img border=\"0\" height=\"25px\" hspace=\"5\" src=\"../../images/impressora01.gif\" width=\"25px\"/> \n",
      "\n",
      "22 \n",
      " <font class=\"d_rtf\"> Imprimir </font> \n",
      "\n",
      "68 \n",
      " <tr> <td> </td> </tr> \n",
      "\n",
      "69 \n",
      " <td> </td> \n",
      "\n",
      "68 \n",
      " <tr> <td> </td> </tr> \n",
      "\n",
      "69 \n",
      " <td> </td> \n",
      "\n"
     ]
    }
   ],
   "source": [
    "tokenised = []\n",
    "for tag in list_of_tags:\n",
    "    tokenised.append(str(tag))\n",
    "for token in tokenised:\n",
    "    print(tokenised.index(token), '\\n', token, '\\n')"
   ]
  },
  {
   "cell_type": "markdown",
   "metadata": {},
   "source": [
    "Let's now try to get a corpus of documents, to run the clustering."
   ]
  },
  {
   "cell_type": "code",
   "execution_count": null,
   "metadata": {
    "collapsed": false
   },
   "outputs": [],
   "source": [
    "import glob\n",
    "files = glob.glob(\"../newhtml/*.html\")\n",
    "docid = 0\n",
    "for file in files:\n",
    "    htmlfile = open(file, encoding='utf8')\n",
    "    htmltext = ' '.join(htmlfile.read().replace('\\n', '').replace('\\r', '').split())\n",
    "    soup = BeautifulSoup(htmltext, 'html5lib')\n",
    "    list_of_tags = soup.find_all(True)\n",
    "    for tag in list_of_tags:\n",
    "        token = str(tag)\n",
    "        output = open(\"../tokens/\" + str(docid) + '-' + str(list_of_tags.index(tag)) + '.txt', 'w')\n",
    "        for line in token:\n",
    "            output.write(line)\n",
    "        output.close()\n",
    "    docid = docid + 1"
   ]
  },
  {
   "cell_type": "markdown",
   "metadata": {},
   "source": [
    "** Clustering **"
   ]
  },
  {
   "cell_type": "markdown",
   "metadata": {},
   "source": [
    "We'll now run a few clustering algorithms to see how it behaves with our data. First, K-Means."
   ]
  },
  {
   "cell_type": "code",
   "execution_count": 1,
   "metadata": {
    "collapsed": true
   },
   "outputs": [],
   "source": [
    "import matplotlib.pyplot as plt\n",
    "import numpy as np\n",
    "import sys\n",
    "import os\n",
    "from scipy.sparse import csr_matrix"
   ]
  },
  {
   "cell_type": "code",
   "execution_count": 2,
   "metadata": {
    "collapsed": true
   },
   "outputs": [],
   "source": [
    "%matplotlib inline"
   ]
  },
  {
   "cell_type": "code",
   "execution_count": 4,
   "metadata": {
    "collapsed": false
   },
   "outputs": [],
   "source": [
    "import glob\n",
    "documents = []\n",
    "files = glob.glob(\"../tokens/*.txt\")\n",
    "for file in files:\n",
    "    tokenfile = open(file)\n",
    "    documents.append(tokenfile.read())"
   ]
  },
  {
   "cell_type": "code",
   "execution_count": 74,
   "metadata": {
    "collapsed": true
   },
   "outputs": [],
   "source": [
    "from sklearn.feature_extraction.text import TfidfVectorizer\n",
    "pattern = u'(?:<\\w+)|(?:\\w+>)'\n",
    "vectorizer = TfidfVectorizer(min_df=1, analyzer = 'word', token_pattern = pattern)\n",
    "tfidf = vectorizer.fit_transform(documents)"
   ]
  },
  {
   "cell_type": "code",
   "execution_count": 75,
   "metadata": {
    "collapsed": false
   },
   "outputs": [
    {
     "data": {
      "text/plain": [
       "{'<a': 0,\n",
       " '<b': 1,\n",
       " '<body': 2,\n",
       " '<br': 3,\n",
       " '<div': 4,\n",
       " '<font': 5,\n",
       " '<h1': 6,\n",
       " '<h2': 7,\n",
       " '<h4': 8,\n",
       " '<h5': 9,\n",
       " '<h6': 10,\n",
       " '<head': 11,\n",
       " '<hr': 12,\n",
       " '<html': 13,\n",
       " '<i': 14,\n",
       " '<img': 15,\n",
       " '<meta': 16,\n",
       " '<nobr': 17,\n",
       " '<p': 18,\n",
       " '<script': 19,\n",
       " '<span': 20,\n",
       " '<strong': 21,\n",
       " '<style': 22,\n",
       " '<sup': 23,\n",
       " '<table': 24,\n",
       " '<tbody': 25,\n",
       " '<td': 26,\n",
       " '<thead': 27,\n",
       " '<title': 28,\n",
       " '<tr': 29,\n",
       " '<u': 30,\n",
       " 'a>': 31,\n",
       " 'b>': 32,\n",
       " 'body>': 33,\n",
       " 'div>': 34,\n",
       " 'font>': 35,\n",
       " 'h1>': 36,\n",
       " 'h2>': 37,\n",
       " 'h4>': 38,\n",
       " 'h5>': 39,\n",
       " 'h6>': 40,\n",
       " 'head>': 41,\n",
       " 'html>': 42,\n",
       " 'i>': 43,\n",
       " 'nobr>': 44,\n",
       " 'p>': 45,\n",
       " 'script>': 46,\n",
       " 'span>': 47,\n",
       " 'strong>': 48,\n",
       " 'style>': 49,\n",
       " 'sup>': 50,\n",
       " 'table>': 51,\n",
       " 'tbody>': 52,\n",
       " 'td>': 53,\n",
       " 'thead>': 54,\n",
       " 'title>': 55,\n",
       " 'tr>': 56,\n",
       " 'u>': 57}"
      ]
     },
     "execution_count": 75,
     "metadata": {},
     "output_type": "execute_result"
    }
   ],
   "source": [
    "vectorizer.vocabulary_"
   ]
  },
  {
   "cell_type": "code",
   "execution_count": 76,
   "metadata": {
    "collapsed": false
   },
   "outputs": [
    {
     "name": "stdout",
     "output_type": "stream",
     "text": [
      "One dimension: 63616\n",
      "Two dimension: 58\n"
     ]
    }
   ],
   "source": [
    "n = tfidf.shape[0]\n",
    "m = tfidf.shape[1]\n",
    "print('One dimension:', n)\n",
    "print('Two dimension:', m)"
   ]
  },
  {
   "cell_type": "code",
   "execution_count": 77,
   "metadata": {
    "collapsed": true
   },
   "outputs": [],
   "source": [
    "def get_initial_centroids(data, k, seed=None):\n",
    "    '''Randomly choose k data points as initial centroids'''\n",
    "    if seed is not None: # useful for obtaining consistent results\n",
    "        np.random.seed(seed)\n",
    "    n = data.shape[0] # number of data points\n",
    "        \n",
    "    # Pick K indices from range [0, N).\n",
    "    rand_indices = np.random.randint(0, n, k)\n",
    "    \n",
    "    # Keep centroids as dense format, as many entries will be nonzero due to averaging.\n",
    "    # As long as at least one document in a cluster contains a word,\n",
    "    # it will carry a nonzero weight in the TF-IDF vector of the centroid.\n",
    "    centroids = data[rand_indices,:].toarray()\n",
    "    \n",
    "    return centroids"
   ]
  },
  {
   "cell_type": "code",
   "execution_count": 78,
   "metadata": {
    "collapsed": true
   },
   "outputs": [],
   "source": [
    "from sklearn.metrics import pairwise_distances\n",
    "\n",
    "def assign_clusters(data, centroids):\n",
    "    \n",
    "    # Compute distances between each data point and the set of centroids:\n",
    "    distances_from_centroids = pairwise_distances(data, centroids, metric='euclidean')\n",
    "    \n",
    "    # Compute cluster assignments for each data point:\n",
    "    cluster_assignment = np.argmin(distances_from_centroids, axis=1)\n",
    "    \n",
    "    return cluster_assignment"
   ]
  },
  {
   "cell_type": "code",
   "execution_count": 79,
   "metadata": {
    "collapsed": true
   },
   "outputs": [],
   "source": [
    "def revise_centroids(data, k, cluster_assignment):\n",
    "    new_centroids = []\n",
    "    for i in range(k):\n",
    "        # Select all data points that belong to cluster i.\n",
    "        member_data_points = data[cluster_assignment==i,:]\n",
    "        # Compute the mean of the data points.\n",
    "        centroid = member_data_points.mean(axis=0)\n",
    "        \n",
    "        # Convert numpy.matrix type to numpy.ndarray type\n",
    "        centroid = centroid.A1\n",
    "        new_centroids.append(centroid)\n",
    "    new_centroids = np.array(new_centroids)\n",
    "    \n",
    "    return new_centroids"
   ]
  },
  {
   "cell_type": "code",
   "execution_count": 80,
   "metadata": {
    "collapsed": true
   },
   "outputs": [],
   "source": [
    "def compute_heterogeneity(data, k, centroids, cluster_assignment):\n",
    "    \n",
    "    heterogeneity = 0.0\n",
    "    for i in range(k):\n",
    "        \n",
    "        # Select all data points that belong to cluster i. Fill in the blank (RHS only)\n",
    "        member_data_points = data[cluster_assignment==i, :]\n",
    "        \n",
    "        if member_data_points.shape[0] > 0: # check if i-th cluster is non-empty\n",
    "            # Compute distances from centroid to data points (RHS only)\n",
    "            distances = pairwise_distances(member_data_points, [centroids[i]], metric='euclidean')\n",
    "            squared_distances = distances**2\n",
    "            heterogeneity += np.sum(squared_distances)\n",
    "        \n",
    "    return heterogeneity"
   ]
  },
  {
   "cell_type": "code",
   "execution_count": 81,
   "metadata": {
    "collapsed": true
   },
   "outputs": [],
   "source": [
    "def kmeans(data, k, initial_centroids, maxiter, record_heterogeneity=None, verbose=False):\n",
    "    '''This function runs k-means on given data and initial set of centroids.\n",
    "       maxiter: maximum number of iterations to run.\n",
    "       record_heterogeneity: (optional) a list, to store the history of heterogeneity as function of iterations\n",
    "                             if None, do not store the history.\n",
    "       verbose: if True, print how many data points changed their cluster labels in each iteration'''\n",
    "    centroids = initial_centroids[:]\n",
    "    prev_cluster_assignment = None\n",
    "    \n",
    "    for itr in range(maxiter):        \n",
    "        if verbose:\n",
    "            print(itr)\n",
    "        \n",
    "        # 1. Make cluster assignments using nearest centroids\n",
    "        cluster_assignment = assign_clusters(data, centroids)\n",
    "            \n",
    "        # 2. Compute a new centroid for each of the k clusters, averaging all data points assigned to that cluster.\n",
    "        centroids = revise_centroids(data, k, cluster_assignment)\n",
    "            \n",
    "        # Check for convergence: if none of the assignments changed, stop\n",
    "        if prev_cluster_assignment is not None and \\\n",
    "          (prev_cluster_assignment==cluster_assignment).all():\n",
    "            break\n",
    "        \n",
    "        # Print number of new assignments \n",
    "        if prev_cluster_assignment is not None:\n",
    "            num_changed = np.sum(prev_cluster_assignment!=cluster_assignment)\n",
    "            if verbose:\n",
    "                print('    {0:5d} elements changed their cluster assignment.'.format(num_changed))   \n",
    "        \n",
    "        # Record heterogeneity convergence metric\n",
    "        if record_heterogeneity is not None:\n",
    "            score = compute_heterogeneity(data, k, centroids, cluster_assignment)\n",
    "            record_heterogeneity.append(score)\n",
    "        \n",
    "        prev_cluster_assignment = cluster_assignment[:]\n",
    "        \n",
    "    return centroids, cluster_assignment"
   ]
  },
  {
   "cell_type": "code",
   "execution_count": 82,
   "metadata": {
    "collapsed": true
   },
   "outputs": [],
   "source": [
    "def plot_heterogeneity(heterogeneity, k):\n",
    "    plt.figure(figsize=(7,4))\n",
    "    plt.plot(heterogeneity, linewidth=4)\n",
    "    plt.xlabel('# Iterations')\n",
    "    plt.ylabel('Heterogeneity')\n",
    "    plt.title('Heterogeneity of clustering over time, K={0:d}'.format(k))\n",
    "    plt.rcParams.update({'font.size': 16})\n",
    "    plt.tight_layout()"
   ]
  },
  {
   "cell_type": "code",
   "execution_count": 89,
   "metadata": {
    "collapsed": false
   },
   "outputs": [
    {
     "name": "stdout",
     "output_type": "stream",
     "text": [
      "0\n"
     ]
    },
    {
     "ename": "ZeroDivisionError",
     "evalue": "float division by zero",
     "output_type": "error",
     "traceback": [
      "\u001b[0;31m---------------------------------------------------------------------------\u001b[0m",
      "\u001b[0;31mZeroDivisionError\u001b[0m                         Traceback (most recent call last)",
      "\u001b[0;32m<ipython-input-89-6110a99271d9>\u001b[0m in \u001b[0;36m<module>\u001b[0;34m()\u001b[0m\n\u001b[1;32m      3\u001b[0m \u001b[0minitial_centroids\u001b[0m \u001b[1;33m=\u001b[0m \u001b[0mget_initial_centroids\u001b[0m\u001b[1;33m(\u001b[0m\u001b[0mtfidf\u001b[0m\u001b[1;33m,\u001b[0m \u001b[0mk\u001b[0m\u001b[1;33m,\u001b[0m \u001b[0mseed\u001b[0m\u001b[1;33m=\u001b[0m\u001b[1;36m0\u001b[0m\u001b[1;33m)\u001b[0m\u001b[1;33m\u001b[0m\u001b[0m\n\u001b[1;32m      4\u001b[0m centroids, cluster_assignment = kmeans(tfidf, k, initial_centroids, maxiter=400,\n\u001b[0;32m----> 5\u001b[0;31m                                        record_heterogeneity=heterogeneity, verbose=True)\n\u001b[0m",
      "\u001b[0;32m<ipython-input-81-0e27021d62d8>\u001b[0m in \u001b[0;36mkmeans\u001b[0;34m(data, k, initial_centroids, maxiter, record_heterogeneity, verbose)\u001b[0m\n\u001b[1;32m     16\u001b[0m \u001b[1;33m\u001b[0m\u001b[0m\n\u001b[1;32m     17\u001b[0m         \u001b[1;31m# 2. Compute a new centroid for each of the k clusters, averaging all data points assigned to that cluster.\u001b[0m\u001b[1;33m\u001b[0m\u001b[1;33m\u001b[0m\u001b[0m\n\u001b[0;32m---> 18\u001b[0;31m         \u001b[0mcentroids\u001b[0m \u001b[1;33m=\u001b[0m \u001b[0mrevise_centroids\u001b[0m\u001b[1;33m(\u001b[0m\u001b[0mdata\u001b[0m\u001b[1;33m,\u001b[0m \u001b[0mk\u001b[0m\u001b[1;33m,\u001b[0m \u001b[0mcluster_assignment\u001b[0m\u001b[1;33m)\u001b[0m\u001b[1;33m\u001b[0m\u001b[0m\n\u001b[0m\u001b[1;32m     19\u001b[0m \u001b[1;33m\u001b[0m\u001b[0m\n\u001b[1;32m     20\u001b[0m         \u001b[1;31m# Check for convergence: if none of the assignments changed, stop\u001b[0m\u001b[1;33m\u001b[0m\u001b[1;33m\u001b[0m\u001b[0m\n",
      "\u001b[0;32m<ipython-input-79-e053db913c3c>\u001b[0m in \u001b[0;36mrevise_centroids\u001b[0;34m(data, k, cluster_assignment)\u001b[0m\n\u001b[1;32m      5\u001b[0m         \u001b[0mmember_data_points\u001b[0m \u001b[1;33m=\u001b[0m \u001b[0mdata\u001b[0m\u001b[1;33m[\u001b[0m\u001b[0mcluster_assignment\u001b[0m\u001b[1;33m==\u001b[0m\u001b[0mi\u001b[0m\u001b[1;33m,\u001b[0m\u001b[1;33m:\u001b[0m\u001b[1;33m]\u001b[0m\u001b[1;33m\u001b[0m\u001b[0m\n\u001b[1;32m      6\u001b[0m         \u001b[1;31m# Compute the mean of the data points.\u001b[0m\u001b[1;33m\u001b[0m\u001b[1;33m\u001b[0m\u001b[0m\n\u001b[0;32m----> 7\u001b[0;31m         \u001b[0mcentroid\u001b[0m \u001b[1;33m=\u001b[0m \u001b[0mmember_data_points\u001b[0m\u001b[1;33m.\u001b[0m\u001b[0mmean\u001b[0m\u001b[1;33m(\u001b[0m\u001b[0maxis\u001b[0m\u001b[1;33m=\u001b[0m\u001b[1;36m0\u001b[0m\u001b[1;33m)\u001b[0m\u001b[1;33m\u001b[0m\u001b[0m\n\u001b[0m\u001b[1;32m      8\u001b[0m \u001b[1;33m\u001b[0m\u001b[0m\n\u001b[1;32m      9\u001b[0m         \u001b[1;31m# Convert numpy.matrix type to numpy.ndarray type\u001b[0m\u001b[1;33m\u001b[0m\u001b[1;33m\u001b[0m\u001b[0m\n",
      "\u001b[0;32mC:\\Anaconda2\\envs\\py35\\lib\\site-packages\\scipy\\sparse\\base.py\u001b[0m in \u001b[0;36mmean\u001b[0;34m(self, axis, dtype, out)\u001b[0m\n\u001b[1;32m    932\u001b[0m         \u001b[1;31m# axis = 0 or 1 now\u001b[0m\u001b[1;33m\u001b[0m\u001b[1;33m\u001b[0m\u001b[0m\n\u001b[1;32m    933\u001b[0m         \u001b[1;32mif\u001b[0m \u001b[0maxis\u001b[0m \u001b[1;33m==\u001b[0m \u001b[1;36m0\u001b[0m\u001b[1;33m:\u001b[0m\u001b[1;33m\u001b[0m\u001b[0m\n\u001b[0;32m--> 934\u001b[0;31m             return (inter_self * (1.0 / self.shape[0])).sum(\n\u001b[0m\u001b[1;32m    935\u001b[0m                 axis=0, dtype=res_dtype, out=out)\n\u001b[1;32m    936\u001b[0m         \u001b[1;32melse\u001b[0m\u001b[1;33m:\u001b[0m\u001b[1;33m\u001b[0m\u001b[0m\n",
      "\u001b[0;31mZeroDivisionError\u001b[0m: float division by zero"
     ]
    }
   ],
   "source": [
    "k = 10\n",
    "heterogeneity = []\n",
    "initial_centroids = get_initial_centroids(tfidf, k, seed=0)\n",
    "centroids, cluster_assignment = kmeans(tfidf, k, initial_centroids, maxiter=400,\n",
    "                                       record_heterogeneity=heterogeneity, verbose=True)"
   ]
  },
  {
   "cell_type": "code",
   "execution_count": 85,
   "metadata": {
    "collapsed": false
   },
   "outputs": [
    {
     "data": {
      "image/png": "[encoded data removed]",
      "text/plain": [
       "<matplotlib.figure.Figure at 0x206c329b978>"
      ]
     },
     "metadata": {},
     "output_type": "display_data"
    }
   ],
   "source": [
    "plot_heterogeneity(heterogeneity, k)"
   ]
  },
  {
   "cell_type": "code",
   "execution_count": 86,
   "metadata": {
    "collapsed": false
   },
   "outputs": [
    {
     "data": {
      "text/plain": [
       "array([[  1.43398681e-04,   1.78524063e-03,   2.39132821e-05,\n",
       "          0.00000000e+00,   8.28378077e-04,   9.74737775e-05,\n",
       "          2.31588617e-04,   4.13496378e-05,   2.07934688e-04,\n",
       "          7.55589446e-05,   1.57862731e-05,   1.19478846e-05,\n",
       "          6.88444673e-05,   1.31862944e-05,   1.18377593e-04,\n",
       "          1.45546961e-04,   7.52947305e-04,   0.00000000e+00,\n",
       "          5.90607170e-01,   1.12214626e-05,   3.86672802e-01,\n",
       "          5.37943755e-05,   6.24571519e-04,   1.23897868e-04,\n",
       "          2.56263107e-04,   2.43890717e-04,   6.85951322e-04,\n",
       "          0.00000000e+00,   3.16365453e-04,   7.19785655e-04,\n",
       "          4.04813454e-05,   1.43398681e-04,   1.78524063e-03,\n",
       "          2.39132821e-05,   8.28378077e-04,   9.74737775e-05,\n",
       "          2.31588617e-04,   4.13496378e-05,   2.07934688e-04,\n",
       "          7.55589446e-05,   1.57862731e-05,   1.19478846e-05,\n",
       "          1.31862944e-05,   1.18377593e-04,   0.00000000e+00,\n",
       "          5.90607170e-01,   1.12214626e-05,   3.86672802e-01,\n",
       "          5.37943755e-05,   6.24571519e-04,   1.23897868e-04,\n",
       "          2.56263107e-04,   2.43890717e-04,   7.01142878e-04,\n",
       "          0.00000000e+00,   3.16365453e-04,   7.19785655e-04,\n",
       "          4.04813454e-05],\n",
       "       [  1.32162595e-02,   3.20520741e-05,   0.00000000e+00,\n",
       "          0.00000000e+00,   0.00000000e+00,   0.00000000e+00,\n",
       "          0.00000000e+00,   0.00000000e+00,   0.00000000e+00,\n",
       "          0.00000000e+00,   0.00000000e+00,   0.00000000e+00,\n",
       "          0.00000000e+00,   0.00000000e+00,   0.00000000e+00,\n",
       "          0.00000000e+00,   0.00000000e+00,   0.00000000e+00,\n",
       "          3.04168260e-03,   0.00000000e+00,   7.00691288e-01,\n",
       "          0.00000000e+00,   0.00000000e+00,   0.00000000e+00,\n",
       "          0.00000000e+00,   0.00000000e+00,   4.45299668e-04,\n",
       "          0.00000000e+00,   0.00000000e+00,   0.00000000e+00,\n",
       "          1.92656371e-05,   1.32162595e-02,   3.20520741e-05,\n",
       "          0.00000000e+00,   0.00000000e+00,   0.00000000e+00,\n",
       "          0.00000000e+00,   0.00000000e+00,   0.00000000e+00,\n",
       "          0.00000000e+00,   0.00000000e+00,   0.00000000e+00,\n",
       "          0.00000000e+00,   0.00000000e+00,   0.00000000e+00,\n",
       "          3.04168260e-03,   0.00000000e+00,   7.00691288e-01,\n",
       "          0.00000000e+00,   0.00000000e+00,   0.00000000e+00,\n",
       "          0.00000000e+00,   0.00000000e+00,   4.43981303e-04,\n",
       "          0.00000000e+00,   0.00000000e+00,   0.00000000e+00,\n",
       "          1.92656371e-05],\n",
       "       [  1.41011872e-02,   2.39360042e-02,   3.09844305e-04,\n",
       "          0.00000000e+00,   2.22727476e-03,   3.49531044e-03,\n",
       "          5.14593980e-04,   2.55907972e-04,   0.00000000e+00,\n",
       "          1.71780632e-05,   1.55695677e-05,   1.52495609e-04,\n",
       "          2.07692740e-03,   1.68301927e-04,   1.09210580e-03,\n",
       "          4.88786705e-03,   2.39102448e-03,   0.00000000e+00,\n",
       "          2.91290030e-01,   1.43223996e-04,   1.97571331e-01,\n",
       "          0.00000000e+00,   2.30755129e-03,   1.17338389e-03,\n",
       "          7.98009761e-03,   8.37734570e-03,   4.86586989e-01,\n",
       "          1.17646039e-04,   1.18515481e-03,   1.93763912e-01,\n",
       "          2.29169456e-04,   1.41011872e-02,   2.39360042e-02,\n",
       "          3.09844305e-04,   2.22727476e-03,   3.49531044e-03,\n",
       "          5.14593980e-04,   2.55907972e-04,   0.00000000e+00,\n",
       "          1.71780632e-05,   1.55695677e-05,   1.52495609e-04,\n",
       "          1.68301927e-04,   1.09210580e-03,   0.00000000e+00,\n",
       "          2.91290030e-01,   1.43223996e-04,   1.97571331e-01,\n",
       "          0.00000000e+00,   2.30755129e-03,   1.17338389e-03,\n",
       "          7.98009761e-03,   8.37734570e-03,   4.86904964e-01,\n",
       "          1.17646039e-04,   1.18515481e-03,   1.93763912e-01,\n",
       "          2.29169456e-04],\n",
       "       [  1.61261969e-03,   5.93547110e-01,   1.38881170e-04,\n",
       "          0.00000000e+00,   6.73381293e-03,   5.68052161e-04,\n",
       "          1.37431555e-03,   7.35106716e-04,   0.00000000e+00,\n",
       "          1.58038713e-04,   5.71605510e-04,   6.91711830e-05,\n",
       "          4.01207888e-04,   7.63408435e-05,   9.16871348e-03,\n",
       "          8.48210335e-04,   6.57767192e-03,   0.00000000e+00,\n",
       "          1.15140798e-01,   6.49656296e-05,   2.16968909e-01,\n",
       "          0.00000000e+00,   5.52591530e-03,   1.42241666e-03,\n",
       "          3.02407345e-03,   2.38402269e-03,   4.86407378e-02,\n",
       "          1.45796122e-03,   3.03581451e-03,   1.82356560e-02,\n",
       "          2.23663944e-02,   1.61261969e-03,   5.93547110e-01,\n",
       "          1.38881170e-04,   6.73381293e-03,   5.68052161e-04,\n",
       "          1.37431555e-03,   7.35106716e-04,   0.00000000e+00,\n",
       "          1.58038713e-04,   5.71605510e-04,   6.91711830e-05,\n",
       "          7.63408435e-05,   9.16871348e-03,   0.00000000e+00,\n",
       "          1.15140798e-01,   6.49656296e-05,   2.16968909e-01,\n",
       "          0.00000000e+00,   5.52591530e-03,   1.42241666e-03,\n",
       "          3.02407345e-03,   2.38402269e-03,   5.56752277e-02,\n",
       "          1.45796122e-03,   3.03581451e-03,   1.82356560e-02,\n",
       "          2.23663944e-02],\n",
       "       [  1.16695331e-01,   2.18172782e-02,   2.56338674e-05,\n",
       "          2.17213470e-01,   3.89362336e-03,   6.50987665e-02,\n",
       "          1.91556307e-03,   1.35963586e-03,   2.88597354e-04,\n",
       "          2.88124760e-04,   2.39108875e-03,   6.44778973e-03,\n",
       "          5.12309036e-02,   1.69737493e-05,   1.04574053e-01,\n",
       "          1.60382140e-01,   3.20557287e-02,   3.95902914e-03,\n",
       "          7.31012241e-03,   1.69075038e-02,   2.86078656e-02,\n",
       "          1.13341346e-03,   3.90373222e-02,   3.35003555e-02,\n",
       "          9.22730562e-03,   1.81245845e-02,   4.43015442e-02,\n",
       "          0.00000000e+00,   2.53071205e-02,   2.86931285e-02,\n",
       "          9.88507719e-02,   1.16695331e-01,   2.18172782e-02,\n",
       "          2.56338674e-05,   3.89362336e-03,   6.50987665e-02,\n",
       "          1.91556307e-03,   1.35963586e-03,   2.88597354e-04,\n",
       "          2.88124760e-04,   2.39108875e-03,   6.44778973e-03,\n",
       "          1.69737493e-05,   1.04574053e-01,   3.95902914e-03,\n",
       "          7.31012241e-03,   1.69075038e-02,   2.86078656e-02,\n",
       "          1.13341346e-03,   3.90373222e-02,   3.35003555e-02,\n",
       "          9.22730562e-03,   1.81245845e-02,   4.41870143e-02,\n",
       "          0.00000000e+00,   2.53071205e-02,   2.86931285e-02,\n",
       "          9.88507719e-02]])"
      ]
     },
     "execution_count": 86,
     "metadata": {},
     "output_type": "execute_result"
    }
   ],
   "source": [
    "centroids"
   ]
  },
  {
   "cell_type": "code",
   "execution_count": 87,
   "metadata": {
    "collapsed": false
   },
   "outputs": [
    {
     "data": {
      "text/plain": [
       "array([3, 4, 4, ..., 2, 2, 4], dtype=int64)"
      ]
     },
     "execution_count": 87,
     "metadata": {},
     "output_type": "execute_result"
    }
   ],
   "source": [
    "cluster_assignment"
   ]
  },
  {
   "cell_type": "code",
   "execution_count": 88,
   "metadata": {
    "collapsed": false
   },
   "outputs": [
    {
     "name": "stdout",
     "output_type": "stream",
     "text": [
      "0 3 <html><head> <style> .topo_materia{ font-family: Verdana; font-size: 8pt; color: #000000; } .d_rtf{ font-family: Verdana\n",
      "1 4 <head> <style> .topo_materia{ font-family: Verdana; font-size: 8pt; color: #000000; } .d_rtf{ font-family: Verdana; font\n",
      "2 4 <table align=\"center\" width=\"50%\"> <tbody> <tr> <td align=\"center\" colspan=\"3\" style=\"padding-left:15px;padding-top:10px\n",
      "3 1 <span style='font-size:7.0pt;font-family:\"Arial\",\"sans-serif\";color:black'> 40/000278/2013 </span>\n",
      "4 4 <span style='font-size:7.0pt;font-family:\"Arial\",\"sans-serif\";color:black'> - Convênio nº 95/2011 - Celebrado em 10/05/2\n",
      "5 4 <p class=\"MsoNormal\" style=\"text-align:justify;line-height:8.5pt\"> <b> <span style='font-size:7.0pt;font-family:\"Arial\",\n",
      "6 3 <b> <span style='font-size:7.0pt;font-family:\"Arial\",\"sans-serif\";color:black'> 40/002549/2011 </span> </b>\n",
      "7 1 <span style='font-size:7.0pt;font-family:\"Arial\",\"sans-serif\";color:black'> 40/002549/2011 </span>\n",
      "8 4 <span style='font-size:7.0pt;font-family:\"Arial\",\"sans-serif\";color:black'> - Contrato nº 142/2012 - Celebrado em 28/12/\n",
      "9 4 <span style='font-size:7.0pt;font-family:\"Arial\",\"sans-serif\";color:black'> Apensado ao 40/002546/2011 - 1º Termo Aditiv\n",
      "10 4 <p class=\"MsoNormal\" style=\"text-align:justify;line-height:8.5pt\"> <b> <span style='font-size:7.0pt;font-family:\"Arial\",\n",
      "11 3 <b> <span style='font-size:7.0pt;font-family:\"Arial\",\"sans-serif\";color:black'> 40/000794/2012 </span> </b>\n",
      "12 1 <span style='font-size:7.0pt;font-family:\"Arial\",\"sans-serif\";color:black'> 40/000794/2012 </span>\n",
      "13 4 <span style='font-size:7.0pt;font-family:\"Arial\",\"sans-serif\";color:black'> Apensado ao 40/002546/2011 - Apostila nº 01/\n",
      "14 4 <i> <u> Objeto </u> </i>\n",
      "15 4 <p class=\"MsoNormal\" style=\"text-align:justify;line-height:8.5pt\"> <b> <span style='font-size:7.0pt;font-family:\"Arial\",\n",
      "16 3 <b> <span style='font-size:7.0pt;font-family:\"Arial\",\"sans-serif\";color:black'> 40/003309/2012 </span> </b>\n",
      "17 1 <span style='font-size:7.0pt;font-family:\"Arial\",\"sans-serif\";color:black'> 40/003309/2012 </span>\n",
      "18 4 <span style='font-size:7.0pt;font-family:\"Arial\",\"sans-serif\";color:black'> Apensado ao 40/002546/2011 - 2º Termo Aditiv\n",
      "19 4 <u> Objeto </u>\n",
      "20 4 <p class=\"MsoNormal\" style=\"text-align:justify;line-height:8.5pt\"> <b> <span style='font-size:7.0pt;font-family:\"Arial\",\n",
      "21 3 <b> <span style='font-size:7.0pt;font-family:\"Arial\",\"sans-serif\";color:black'> 40/004344/2012 </span> </b>\n",
      "22 1 <span style='font-size:7.0pt;font-family:\"Arial\",\"sans-serif\";color:black'> 40/004344/2012 </span>\n",
      "23 4 <span style='font-size:7.0pt;font-family:\"Arial\",\"sans-serif\";color:black'> Apensado ao 40/002546/2011 - 3º Termo Aditiv\n",
      "24 4 <p class=\"MsoNormal\" style=\"text-align:justify;line-height:8.5pt\"> <b> <span style='font-size:7.0pt;font-family:\"Arial\",\n",
      "25 4 <i> <u> Partes </u> </i>\n",
      "26 3 <b> <span style='font-size:7.0pt;font-family:\"Arial\",\"sans-serif\";color:black'> 40/007416/2012 </span> </b>\n",
      "27 1 <span style='font-size:7.0pt;font-family:\"Arial\",\"sans-serif\";color:black'> 40/007416/2012 </span>\n",
      "28 4 <span style='font-size:7.0pt;font-family:\"Arial\",\"sans-serif\";color:black'> - Convênio nº 133/2012 - Celebrado em 12/07/\n",
      "29 4 <p class=\"MsoNormal\" style=\"text-align:justify;line-height:8.5pt\"> <b> <span style='font-size:7.0pt;font-family:\"Arial\",\n",
      "30 4 <u> Partes </u>\n",
      "31 3 <b> <span style='font-size:7.0pt;font-family:\"Arial\",\"sans-serif\";color:black'> 40/000104/2013 </span> </b>\n",
      "32 1 <span style='font-size:7.0pt;font-family:\"Arial\",\"sans-serif\";color:black'> 40/000104/2013 </span>\n",
      "33 4 <span style='font-size:7.0pt;font-family:\"Arial\",\"sans-serif\";color:black'> Apensado ao 40/007416/2012 - Termo Aditivo d\n",
      "34 3 <p class=\"MsoNormal\" style=\"text-align:justify;line-height:8.5pt\"> <b> <span style='font-size:7.0pt;font-family:\"Arial\",\n",
      "35 3 <b> <span style='font-size:7.0pt;font-family:\"Arial\",\"sans-serif\";color:black'> PELA DILIGÊNCIA, AUDIÊNCIA, RECOMENDAÇÃO\n",
      "36 1 <span style='font-size:7.0pt;font-family:\"Arial\",\"sans-serif\";color:black'> PELA DILIGÊNCIA, AUDIÊNCIA, RECOMENDAÇÃO E A\n",
      "37 4 <i> <u> Valor </u> </i>\n",
      "38 1 <span style='font-size: 7.0pt;font-family:\"Arial\",\"sans-serif\";color:black'> nos termos do voto do Relator - Processo(s)\n",
      "39 4 <p class=\"MsoNormal\" style=\"text-align:justify;line-height:8.5pt\"> <b> <span style='font-size:7.0pt;font-family:\"Arial\",\n",
      "40 3 <b> <span style='font-size:7.0pt;font-family:\"Arial\",\"sans-serif\";color:black'> 40/001364/2011 </span> </b>\n",
      "41 1 <span style='font-size:7.0pt;font-family:\"Arial\",\"sans-serif\";color:black'> 40/001364/2011 </span>\n",
      "42 4 <span style='font-size:7.0pt;font-family:\"Arial\",\"sans-serif\";color:black'> - Convênio nº 11/2011 - Celebrado em 28/02/2\n",
      "43 4 <u> Valor </u>\n",
      "44 4 <p class=\"MsoNormal\" style=\"text-align:justify;line-height:8.5pt\"> <b> <span style='font-size:7.0pt;font-family:\"Arial\",\n",
      "45 3 <b> <span style='font-size:7.0pt;font-family:\"Arial\",\"sans-serif\";color:black'> 40/002789/2011 </span> </b>\n",
      "46 1 <span style='font-size:7.0pt;font-family:\"Arial\",\"sans-serif\";color:black'> 40/002789/2011 </span>\n",
      "47 4 <span style='font-size:7.0pt;font-family:\"Arial\",\"sans-serif\";color:black'> Apensado ao 40/001364/2011 - 1º Termo Aditiv\n",
      "48 4 <p class=\"MsoNormal\" style=\"text-align:justify;line-height:8.5pt\"> <b> <span style='font-size:7.0pt;font-family:\"Arial\",\n",
      "49 4 <p class=\"MsoNormal\" style=\"text-align:justify;line-height:8.5pt\"> <b> <span style='font-size:7.0pt;font-family:\"Arial\",\n"
     ]
    }
   ],
   "source": [
    "for i in range(50):\n",
    "    print(i, cluster_assignment[i], documents[i][:120])"
   ]
  },
  {
   "cell_type": "code",
   "execution_count": 25,
   "metadata": {
    "collapsed": false
   },
   "outputs": [
    {
     "data": {
      "text/plain": [
       "'<table align=\"center\" width=\"50%\"> <tbody> <tr> <td align=\"center\" colspan=\"3\" style=\"padding-left:15px;padding-top:10px;\"> <a href=\"../../\" target=\"_top\"> <img border=\"0\" src=\"../../images/logo.jpg\"/> </a> </td> <!--td style=\"padding-left:205px;\" width=\"48%\"> <b><font face=\"Verdana\" size=\"2\" color=\"#738197\"></font></b> </td> <td align=\"right\" style=\"padding-right:15px;\"> <img src=\"images/logo_governo.gif\" border=\"0\"> </td!--> </tr> </tbody> </table>'"
      ]
     },
     "execution_count": 25,
     "metadata": {},
     "output_type": "execute_result"
    }
   ],
   "source": [
    "documents[2]"
   ]
  },
  {
   "cell_type": "code",
   "execution_count": null,
   "metadata": {
    "collapsed": true
   },
   "outputs": [],
   "source": []
  }
 ],
 "metadata": {
  "anaconda-cloud": {},
  "kernelspec": {
   "display_name": "Python [conda env:py35]",
   "language": "python",
   "name": "conda-env-py35-py"
  },
  "language_info": {
   "codemirror_mode": {
    "name": "ipython",
    "version": 3
   },
   "file_extension": ".py",
   "mimetype": "text/x-python",
   "name": "python",
   "nbconvert_exporter": "python",
   "pygments_lexer": "ipython3",
   "version": "3.5.2"
  }
 },
 "nbformat": 4,
 "nbformat_minor": 0
}
